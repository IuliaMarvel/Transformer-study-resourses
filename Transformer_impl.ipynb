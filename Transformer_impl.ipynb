{
  "nbformat": 4,
  "nbformat_minor": 0,
  "metadata": {
    "colab": {
      "provenance": [],
      "collapsed_sections": []
    },
    "kernelspec": {
      "name": "python3",
      "display_name": "Python 3"
    },
    "language_info": {
      "name": "python"
    }
  },
  "cells": [
    {
      "cell_type": "markdown",
      "source": [
        "Model implementation from\n",
        "http://nlp.seas.harvard.edu/annotated-transformer/#training"
      ],
      "metadata": {
        "id": "8YWji6S_Y1W9"
      }
    },
    {
      "cell_type": "code",
      "source": [
        "import tensorflow as tf"
      ],
      "metadata": {
        "id": "7WYd93g6Uc3J"
      },
      "execution_count": null,
      "outputs": []
    },
    {
      "cell_type": "code",
      "execution_count": null,
      "metadata": {
        "colab": {
          "base_uri": "https://localhost:8080/"
        },
        "id": "hOqPQXNSNKey",
        "outputId": "effdf4c9-3c4c-4f62-b9ea-edd1e61a393c"
      },
      "outputs": [
        {
          "output_type": "stream",
          "name": "stdout",
          "text": [
            "Looking in indexes: https://pypi.org/simple, https://us-python.pkg.dev/colab-wheels/public/simple/\n",
            "Collecting de-core-news-sm==3.2.0\n",
            "  Downloading https://github.com/explosion/spacy-models/releases/download/de_core_news_sm-3.2.0/de_core_news_sm-3.2.0-py3-none-any.whl (19.1 MB)\n",
            "\u001b[K     |████████████████████████████████| 19.1 MB 1.2 MB/s \n",
            "\u001b[?25hRequirement already satisfied: spacy<3.3.0,>=3.2.0 in /usr/local/lib/python3.7/dist-packages (from de-core-news-sm==3.2.0) (3.2.0)\n",
            "Requirement already satisfied: tqdm<5.0.0,>=4.38.0 in /usr/local/lib/python3.7/dist-packages (from spacy<3.3.0,>=3.2.0->de-core-news-sm==3.2.0) (4.64.1)\n",
            "Requirement already satisfied: setuptools in /usr/local/lib/python3.7/dist-packages (from spacy<3.3.0,>=3.2.0->de-core-news-sm==3.2.0) (57.4.0)\n",
            "Requirement already satisfied: pathy>=0.3.5 in /usr/local/lib/python3.7/dist-packages (from spacy<3.3.0,>=3.2.0->de-core-news-sm==3.2.0) (0.6.2)\n",
            "Requirement already satisfied: packaging>=20.0 in /usr/local/lib/python3.7/dist-packages (from spacy<3.3.0,>=3.2.0->de-core-news-sm==3.2.0) (21.3)\n",
            "Requirement already satisfied: blis<0.8.0,>=0.4.0 in /usr/local/lib/python3.7/dist-packages (from spacy<3.3.0,>=3.2.0->de-core-news-sm==3.2.0) (0.7.8)\n",
            "Requirement already satisfied: typer<0.5.0,>=0.3.0 in /usr/local/lib/python3.7/dist-packages (from spacy<3.3.0,>=3.2.0->de-core-news-sm==3.2.0) (0.4.2)\n",
            "Requirement already satisfied: numpy>=1.15.0 in /usr/local/lib/python3.7/dist-packages (from spacy<3.3.0,>=3.2.0->de-core-news-sm==3.2.0) (1.21.6)\n",
            "Requirement already satisfied: wasabi<1.1.0,>=0.8.1 in /usr/local/lib/python3.7/dist-packages (from spacy<3.3.0,>=3.2.0->de-core-news-sm==3.2.0) (0.10.1)\n",
            "Requirement already satisfied: typing-extensions<4.0.0.0,>=3.7.4 in /usr/local/lib/python3.7/dist-packages (from spacy<3.3.0,>=3.2.0->de-core-news-sm==3.2.0) (3.10.0.2)\n",
            "Requirement already satisfied: jinja2 in /usr/local/lib/python3.7/dist-packages (from spacy<3.3.0,>=3.2.0->de-core-news-sm==3.2.0) (2.11.3)\n",
            "Requirement already satisfied: spacy-loggers<2.0.0,>=1.0.0 in /usr/local/lib/python3.7/dist-packages (from spacy<3.3.0,>=3.2.0->de-core-news-sm==3.2.0) (1.0.3)\n",
            "Requirement already satisfied: requests<3.0.0,>=2.13.0 in /usr/local/lib/python3.7/dist-packages (from spacy<3.3.0,>=3.2.0->de-core-news-sm==3.2.0) (2.23.0)\n",
            "Requirement already satisfied: pydantic!=1.8,!=1.8.1,<1.9.0,>=1.7.4 in /usr/local/lib/python3.7/dist-packages (from spacy<3.3.0,>=3.2.0->de-core-news-sm==3.2.0) (1.8.2)\n",
            "Requirement already satisfied: preshed<3.1.0,>=3.0.2 in /usr/local/lib/python3.7/dist-packages (from spacy<3.3.0,>=3.2.0->de-core-news-sm==3.2.0) (3.0.7)\n",
            "Requirement already satisfied: langcodes<4.0.0,>=3.2.0 in /usr/local/lib/python3.7/dist-packages (from spacy<3.3.0,>=3.2.0->de-core-news-sm==3.2.0) (3.3.0)\n",
            "Requirement already satisfied: cymem<2.1.0,>=2.0.2 in /usr/local/lib/python3.7/dist-packages (from spacy<3.3.0,>=3.2.0->de-core-news-sm==3.2.0) (2.0.6)\n",
            "Requirement already satisfied: srsly<3.0.0,>=2.4.1 in /usr/local/lib/python3.7/dist-packages (from spacy<3.3.0,>=3.2.0->de-core-news-sm==3.2.0) (2.4.4)\n",
            "Requirement already satisfied: thinc<8.1.0,>=8.0.12 in /usr/local/lib/python3.7/dist-packages (from spacy<3.3.0,>=3.2.0->de-core-news-sm==3.2.0) (8.0.17)\n",
            "Requirement already satisfied: murmurhash<1.1.0,>=0.28.0 in /usr/local/lib/python3.7/dist-packages (from spacy<3.3.0,>=3.2.0->de-core-news-sm==3.2.0) (1.0.8)\n",
            "Requirement already satisfied: catalogue<2.1.0,>=2.0.6 in /usr/local/lib/python3.7/dist-packages (from spacy<3.3.0,>=3.2.0->de-core-news-sm==3.2.0) (2.0.8)\n",
            "Requirement already satisfied: spacy-legacy<3.1.0,>=3.0.8 in /usr/local/lib/python3.7/dist-packages (from spacy<3.3.0,>=3.2.0->de-core-news-sm==3.2.0) (3.0.10)\n",
            "Requirement already satisfied: zipp>=0.5 in /usr/local/lib/python3.7/dist-packages (from catalogue<2.1.0,>=2.0.6->spacy<3.3.0,>=3.2.0->de-core-news-sm==3.2.0) (3.8.1)\n",
            "Requirement already satisfied: pyparsing!=3.0.5,>=2.0.2 in /usr/local/lib/python3.7/dist-packages (from packaging>=20.0->spacy<3.3.0,>=3.2.0->de-core-news-sm==3.2.0) (3.0.9)\n",
            "Requirement already satisfied: smart-open<6.0.0,>=5.2.1 in /usr/local/lib/python3.7/dist-packages (from pathy>=0.3.5->spacy<3.3.0,>=3.2.0->de-core-news-sm==3.2.0) (5.2.1)\n",
            "Requirement already satisfied: idna<3,>=2.5 in /usr/local/lib/python3.7/dist-packages (from requests<3.0.0,>=2.13.0->spacy<3.3.0,>=3.2.0->de-core-news-sm==3.2.0) (2.10)\n",
            "Requirement already satisfied: certifi>=2017.4.17 in /usr/local/lib/python3.7/dist-packages (from requests<3.0.0,>=2.13.0->spacy<3.3.0,>=3.2.0->de-core-news-sm==3.2.0) (2022.6.15)\n",
            "Requirement already satisfied: chardet<4,>=3.0.2 in /usr/local/lib/python3.7/dist-packages (from requests<3.0.0,>=2.13.0->spacy<3.3.0,>=3.2.0->de-core-news-sm==3.2.0) (3.0.4)\n",
            "Requirement already satisfied: urllib3!=1.25.0,!=1.25.1,<1.26,>=1.21.1 in /usr/local/lib/python3.7/dist-packages (from requests<3.0.0,>=2.13.0->spacy<3.3.0,>=3.2.0->de-core-news-sm==3.2.0) (1.25.11)\n",
            "Requirement already satisfied: click<9.0.0,>=7.1.1 in /usr/local/lib/python3.7/dist-packages (from typer<0.5.0,>=0.3.0->spacy<3.3.0,>=3.2.0->de-core-news-sm==3.2.0) (7.1.2)\n",
            "Requirement already satisfied: MarkupSafe>=0.23 in /usr/local/lib/python3.7/dist-packages (from jinja2->spacy<3.3.0,>=3.2.0->de-core-news-sm==3.2.0) (2.0.1)\n",
            "\u001b[38;5;2m✔ Download and installation successful\u001b[0m\n",
            "You can now load the package via spacy.load('de_core_news_sm')\n",
            "Looking in indexes: https://pypi.org/simple, https://us-python.pkg.dev/colab-wheels/public/simple/\n",
            "Collecting en-core-web-sm==3.2.0\n",
            "  Downloading https://github.com/explosion/spacy-models/releases/download/en_core_web_sm-3.2.0/en_core_web_sm-3.2.0-py3-none-any.whl (13.9 MB)\n",
            "\u001b[K     |████████████████████████████████| 13.9 MB 4.0 MB/s \n",
            "\u001b[?25hRequirement already satisfied: spacy<3.3.0,>=3.2.0 in /usr/local/lib/python3.7/dist-packages (from en-core-web-sm==3.2.0) (3.2.0)\n",
            "Requirement already satisfied: blis<0.8.0,>=0.4.0 in /usr/local/lib/python3.7/dist-packages (from spacy<3.3.0,>=3.2.0->en-core-web-sm==3.2.0) (0.7.8)\n",
            "Requirement already satisfied: catalogue<2.1.0,>=2.0.6 in /usr/local/lib/python3.7/dist-packages (from spacy<3.3.0,>=3.2.0->en-core-web-sm==3.2.0) (2.0.8)\n",
            "Requirement already satisfied: packaging>=20.0 in /usr/local/lib/python3.7/dist-packages (from spacy<3.3.0,>=3.2.0->en-core-web-sm==3.2.0) (21.3)\n",
            "Requirement already satisfied: srsly<3.0.0,>=2.4.1 in /usr/local/lib/python3.7/dist-packages (from spacy<3.3.0,>=3.2.0->en-core-web-sm==3.2.0) (2.4.4)\n",
            "Requirement already satisfied: pydantic!=1.8,!=1.8.1,<1.9.0,>=1.7.4 in /usr/local/lib/python3.7/dist-packages (from spacy<3.3.0,>=3.2.0->en-core-web-sm==3.2.0) (1.8.2)\n",
            "Requirement already satisfied: preshed<3.1.0,>=3.0.2 in /usr/local/lib/python3.7/dist-packages (from spacy<3.3.0,>=3.2.0->en-core-web-sm==3.2.0) (3.0.7)\n",
            "Requirement already satisfied: thinc<8.1.0,>=8.0.12 in /usr/local/lib/python3.7/dist-packages (from spacy<3.3.0,>=3.2.0->en-core-web-sm==3.2.0) (8.0.17)\n",
            "Requirement already satisfied: setuptools in /usr/local/lib/python3.7/dist-packages (from spacy<3.3.0,>=3.2.0->en-core-web-sm==3.2.0) (57.4.0)\n",
            "Requirement already satisfied: wasabi<1.1.0,>=0.8.1 in /usr/local/lib/python3.7/dist-packages (from spacy<3.3.0,>=3.2.0->en-core-web-sm==3.2.0) (0.10.1)\n",
            "Requirement already satisfied: requests<3.0.0,>=2.13.0 in /usr/local/lib/python3.7/dist-packages (from spacy<3.3.0,>=3.2.0->en-core-web-sm==3.2.0) (2.23.0)\n",
            "Requirement already satisfied: tqdm<5.0.0,>=4.38.0 in /usr/local/lib/python3.7/dist-packages (from spacy<3.3.0,>=3.2.0->en-core-web-sm==3.2.0) (4.64.1)\n",
            "Requirement already satisfied: cymem<2.1.0,>=2.0.2 in /usr/local/lib/python3.7/dist-packages (from spacy<3.3.0,>=3.2.0->en-core-web-sm==3.2.0) (2.0.6)\n",
            "Requirement already satisfied: typing-extensions<4.0.0.0,>=3.7.4 in /usr/local/lib/python3.7/dist-packages (from spacy<3.3.0,>=3.2.0->en-core-web-sm==3.2.0) (3.10.0.2)\n",
            "Requirement already satisfied: spacy-legacy<3.1.0,>=3.0.8 in /usr/local/lib/python3.7/dist-packages (from spacy<3.3.0,>=3.2.0->en-core-web-sm==3.2.0) (3.0.10)\n",
            "Requirement already satisfied: numpy>=1.15.0 in /usr/local/lib/python3.7/dist-packages (from spacy<3.3.0,>=3.2.0->en-core-web-sm==3.2.0) (1.21.6)\n",
            "Requirement already satisfied: jinja2 in /usr/local/lib/python3.7/dist-packages (from spacy<3.3.0,>=3.2.0->en-core-web-sm==3.2.0) (2.11.3)\n",
            "Requirement already satisfied: pathy>=0.3.5 in /usr/local/lib/python3.7/dist-packages (from spacy<3.3.0,>=3.2.0->en-core-web-sm==3.2.0) (0.6.2)\n",
            "Requirement already satisfied: langcodes<4.0.0,>=3.2.0 in /usr/local/lib/python3.7/dist-packages (from spacy<3.3.0,>=3.2.0->en-core-web-sm==3.2.0) (3.3.0)\n",
            "Requirement already satisfied: murmurhash<1.1.0,>=0.28.0 in /usr/local/lib/python3.7/dist-packages (from spacy<3.3.0,>=3.2.0->en-core-web-sm==3.2.0) (1.0.8)\n",
            "Requirement already satisfied: typer<0.5.0,>=0.3.0 in /usr/local/lib/python3.7/dist-packages (from spacy<3.3.0,>=3.2.0->en-core-web-sm==3.2.0) (0.4.2)\n",
            "Requirement already satisfied: spacy-loggers<2.0.0,>=1.0.0 in /usr/local/lib/python3.7/dist-packages (from spacy<3.3.0,>=3.2.0->en-core-web-sm==3.2.0) (1.0.3)\n",
            "Requirement already satisfied: zipp>=0.5 in /usr/local/lib/python3.7/dist-packages (from catalogue<2.1.0,>=2.0.6->spacy<3.3.0,>=3.2.0->en-core-web-sm==3.2.0) (3.8.1)\n",
            "Requirement already satisfied: pyparsing!=3.0.5,>=2.0.2 in /usr/local/lib/python3.7/dist-packages (from packaging>=20.0->spacy<3.3.0,>=3.2.0->en-core-web-sm==3.2.0) (3.0.9)\n",
            "Requirement already satisfied: smart-open<6.0.0,>=5.2.1 in /usr/local/lib/python3.7/dist-packages (from pathy>=0.3.5->spacy<3.3.0,>=3.2.0->en-core-web-sm==3.2.0) (5.2.1)\n",
            "Requirement already satisfied: certifi>=2017.4.17 in /usr/local/lib/python3.7/dist-packages (from requests<3.0.0,>=2.13.0->spacy<3.3.0,>=3.2.0->en-core-web-sm==3.2.0) (2022.6.15)\n",
            "Requirement already satisfied: urllib3!=1.25.0,!=1.25.1,<1.26,>=1.21.1 in /usr/local/lib/python3.7/dist-packages (from requests<3.0.0,>=2.13.0->spacy<3.3.0,>=3.2.0->en-core-web-sm==3.2.0) (1.25.11)\n",
            "Requirement already satisfied: idna<3,>=2.5 in /usr/local/lib/python3.7/dist-packages (from requests<3.0.0,>=2.13.0->spacy<3.3.0,>=3.2.0->en-core-web-sm==3.2.0) (2.10)\n",
            "Requirement already satisfied: chardet<4,>=3.0.2 in /usr/local/lib/python3.7/dist-packages (from requests<3.0.0,>=2.13.0->spacy<3.3.0,>=3.2.0->en-core-web-sm==3.2.0) (3.0.4)\n",
            "Requirement already satisfied: click<9.0.0,>=7.1.1 in /usr/local/lib/python3.7/dist-packages (from typer<0.5.0,>=0.3.0->spacy<3.3.0,>=3.2.0->en-core-web-sm==3.2.0) (7.1.2)\n",
            "Requirement already satisfied: MarkupSafe>=0.23 in /usr/local/lib/python3.7/dist-packages (from jinja2->spacy<3.3.0,>=3.2.0->en-core-web-sm==3.2.0) (2.0.1)\n",
            "\u001b[38;5;2m✔ Download and installation successful\u001b[0m\n",
            "You can now load the package via spacy.load('en_core_web_sm')\n"
          ]
        }
      ],
      "source": [
        "!pip install -q torchdata==0.3.0 spacy==3.2 altair GPUtil\n",
        "!python -m spacy download de_core_news_sm\n",
        "!python -m spacy download en_core_web_sm"
      ]
    },
    {
      "cell_type": "code",
      "source": [
        "!pip install -U torchtext==0.12.0\n",
        "!pip install torch==1.11.0"
      ],
      "metadata": {
        "colab": {
          "base_uri": "https://localhost:8080/"
        },
        "id": "lN3Cd5ieQlWt",
        "outputId": "38b3a590-fe4f-4717-fa50-4130990bf212"
      },
      "execution_count": null,
      "outputs": [
        {
          "output_type": "stream",
          "name": "stdout",
          "text": [
            "Looking in indexes: https://pypi.org/simple, https://us-python.pkg.dev/colab-wheels/public/simple/\n",
            "Requirement already satisfied: torchtext==0.12.0 in /usr/local/lib/python3.7/dist-packages (0.12.0)\n",
            "Requirement already satisfied: requests in /usr/local/lib/python3.7/dist-packages (from torchtext==0.12.0) (2.23.0)\n",
            "Requirement already satisfied: tqdm in /usr/local/lib/python3.7/dist-packages (from torchtext==0.12.0) (4.64.1)\n",
            "Requirement already satisfied: numpy in /usr/local/lib/python3.7/dist-packages (from torchtext==0.12.0) (1.21.6)\n",
            "Requirement already satisfied: torch==1.11.0 in /usr/local/lib/python3.7/dist-packages (from torchtext==0.12.0) (1.11.0)\n",
            "Requirement already satisfied: typing-extensions in /usr/local/lib/python3.7/dist-packages (from torch==1.11.0->torchtext==0.12.0) (3.10.0.2)\n",
            "Requirement already satisfied: urllib3!=1.25.0,!=1.25.1,<1.26,>=1.21.1 in /usr/local/lib/python3.7/dist-packages (from requests->torchtext==0.12.0) (1.25.11)\n",
            "Requirement already satisfied: idna<3,>=2.5 in /usr/local/lib/python3.7/dist-packages (from requests->torchtext==0.12.0) (2.10)\n",
            "Requirement already satisfied: certifi>=2017.4.17 in /usr/local/lib/python3.7/dist-packages (from requests->torchtext==0.12.0) (2022.6.15)\n",
            "Requirement already satisfied: chardet<4,>=3.0.2 in /usr/local/lib/python3.7/dist-packages (from requests->torchtext==0.12.0) (3.0.4)\n",
            "Looking in indexes: https://pypi.org/simple, https://us-python.pkg.dev/colab-wheels/public/simple/\n",
            "Requirement already satisfied: torch==1.11.0 in /usr/local/lib/python3.7/dist-packages (1.11.0)\n",
            "Requirement already satisfied: typing-extensions in /usr/local/lib/python3.7/dist-packages (from torch==1.11.0) (3.10.0.2)\n"
          ]
        }
      ]
    },
    {
      "cell_type": "code",
      "source": [
        "import os\n",
        "from os.path import exists\n",
        "import torch\n",
        "import torch.nn as nn\n",
        "from torch.nn.functional import log_softmax, pad\n",
        "import math\n",
        "import copy\n",
        "import time\n",
        "from torch.optim.lr_scheduler import LambdaLR\n",
        "import pandas as pd\n",
        "import altair as alt\n",
        "from torchtext.data.functional import to_map_style_dataset\n",
        "from torch.utils.data import DataLoader\n",
        "from torchtext.vocab import build_vocab_from_iterator\n",
        "import torchtext.datasets as datasets\n",
        "import spacy\n",
        "import GPUtil\n",
        "import warnings\n",
        "from torch.utils.data.distributed import DistributedSampler\n",
        "import torch.distributed as dist\n",
        "import torch.multiprocessing as mp\n",
        "from torch.nn.parallel import DistributedDataParallel as DDP\n",
        "\n",
        "warnings.filterwarnings(\"ignore\")\n",
        "RUN_EXAMPLES = True"
      ],
      "metadata": {
        "id": "q0ik_NxdNe_O"
      },
      "execution_count": null,
      "outputs": []
    },
    {
      "cell_type": "code",
      "source": [
        "def is_interactive_notebook():\n",
        "  return __name__ == \"__main__\"\n",
        "\n",
        "def show_example(fn, args=[]):\n",
        "  if __name__ == \"__main__\" and RUN_EXAMPLES:\n",
        "    return fn(*args)\n",
        "\n",
        "class DummyOptimizer(torch.optim.Optimizer):\n",
        "  def __init__(self):\n",
        "    self.param_groups = [{\"lr\":0}]\n",
        "    None\n",
        "\n",
        "  def step(self):\n",
        "    None\n",
        "  \n",
        "  def zero_grad(self, set_to_none=False):\n",
        "    None\n",
        "  \n",
        "\n",
        "class DummyScheduler:\n",
        "  def step(self):\n",
        "    None"
      ],
      "metadata": {
        "id": "dInIGJE9QIKd"
      },
      "execution_count": null,
      "outputs": []
    },
    {
      "cell_type": "code",
      "source": [
        "class EncoderDecoder(nn.Module):\n",
        "  def __init__(self,encoder,decoder,src_embed,tgt_embed,generator):\n",
        "    super(EncoderDecoder, self).__init__()\n",
        "    self.encoder = encoder\n",
        "    self.decoder = decoder\n",
        "    self.src_embed = src_embed\n",
        "    self.tgt_embed = tgt_embed\n",
        "    self.generator = generator\n",
        "\n",
        "  def forward(self, src, tgt, src_mask, tgt_mask):\n",
        "    return self.decode(self.encode(src,src_mask),src_mask,tgt,tgt_mask)\n",
        "  \n",
        "  def encode(self, src, src_mask):\n",
        "    return self.encoder(self.src_embed(src),src_mask)\n",
        "  \n",
        "  def decode(self, memory, src_mask, tgt, tgt_mask):\n",
        "    return self.decoder(self.tgt_embed(tgt),memory,src_mask,tgt_mask)"
      ],
      "metadata": {
        "id": "T3aasJpfV0EU"
      },
      "execution_count": null,
      "outputs": []
    },
    {
      "cell_type": "code",
      "source": [
        "class Generator(nn.Module):\n",
        "  def __init__(self, d_model, vocab):\n",
        "    super(Generator, self).__init__()\n",
        "    self.proj = nn.Linear(d_model, vocab)\n",
        "  \n",
        "  def forward(self,x):\n",
        "    return log_softmax(self.proj(x),dim=-1)"
      ],
      "metadata": {
        "id": "i2U6wfsyYMQ5"
      },
      "execution_count": null,
      "outputs": []
    },
    {
      "cell_type": "code",
      "source": [
        "def clones(module, N):\n",
        "  return nn.ModuleList([copy.deepcopy(module) for _ in range(N)])"
      ],
      "metadata": {
        "id": "Ai971Nf2Zxg_"
      },
      "execution_count": null,
      "outputs": []
    },
    {
      "cell_type": "code",
      "source": [
        "class Encoder(nn.Module):\n",
        "  def __init__(self,layer,N):\n",
        "    super(Encoder, self).__init__()\n",
        "    self.layers = clones(layer,N)\n",
        "    self.norm = LayerNorm(layer.size)\n",
        "  \n",
        "  def forward(self,x,mask):\n",
        "    for layer in self.layers:\n",
        "      x = layer(x,mask)\n",
        "    return self.norm(x)"
      ],
      "metadata": {
        "id": "FSgQoQQ8azOD"
      },
      "execution_count": null,
      "outputs": []
    },
    {
      "cell_type": "code",
      "source": [
        "class LayerNorm(nn.Module):\n",
        "  def __init__(self,features,eps=1e-6):\n",
        "    super(LayerNorm,self).__init__()\n",
        "    self.a_2 = nn.Parameter(torch.ones(features))\n",
        "    self.b_2 = nn.Parameter(torch.zeros(features))\n",
        "    self.eps = eps\n",
        "\n",
        "  def forward(self,x):\n",
        "    mean = x.mean(-1,keepdim=True)\n",
        "    std = x.std(-1,keepdim=True)\n",
        "    return self.a_2 * (x - mean) / (std + self.eps) + self.b_2"
      ],
      "metadata": {
        "id": "EwU03i9VblGe"
      },
      "execution_count": null,
      "outputs": []
    },
    {
      "cell_type": "code",
      "source": [
        "class SublayerConnection(nn.Module):\n",
        "  def __init__(self,size,dropout):\n",
        "    super(SublayerConnection,self).__init__()\n",
        "    self.norm = LayerNorm(size)\n",
        "    self.dropout = nn.Dropout(dropout)\n",
        "  \n",
        "  def forward(self,x,sublayer):\n",
        "    return x + self.dropout(sublayer(self.norm(x)))"
      ],
      "metadata": {
        "id": "pk1B3TAvd26W"
      },
      "execution_count": null,
      "outputs": []
    },
    {
      "cell_type": "code",
      "source": [
        "class EncoderLayer(nn.Module):\n",
        "  def __init__(self,size,self_attn,feed_forward,dropout):\n",
        "    super(EncoderLayer,self).__init__()\n",
        "    self.self_attn = self_attn\n",
        "    self.feed_forward = feed_forward\n",
        "    self.sublayer = clones(SublayerConnection(size,dropout),2)\n",
        "    self.size = size\n",
        "  \n",
        "  def forward(self,x,mask):\n",
        "    x = self.sublayer[0](x,lambda x: self.self_attn(x,x,x,mask))\n",
        "    return self.sublayer[1](x,self.feed_forward)"
      ],
      "metadata": {
        "id": "mwhloJXFetp0"
      },
      "execution_count": null,
      "outputs": []
    },
    {
      "cell_type": "code",
      "source": [
        "class Decoder(nn.Module):\n",
        "  def __init__(self,layer,N):\n",
        "    super(Decoder,self).__init__()\n",
        "    self.layers = clones(layer,N)\n",
        "    self.norm = LayerNorm(layer.size)\n",
        "\n",
        "  def forward(self,x,memory,src_mask,tgt_mask):\n",
        "    for layer in self.layers:\n",
        "      x = layer(x,memory,src_mask,tgt_mask)\n",
        "    return self.norm(x)"
      ],
      "metadata": {
        "id": "EfaP-gzzhIrk"
      },
      "execution_count": null,
      "outputs": []
    },
    {
      "cell_type": "code",
      "source": [
        "class DecoderLayer(nn.Module):\n",
        "  def __init__(self,size,self_attn,src_attn,feed_forward,dropout):\n",
        "    super(DecoderLayer,self).__init__()\n",
        "    self.size = size\n",
        "    self.self_attn = self_attn\n",
        "    self.src_attn = src_attn\n",
        "    self.feed_forward = feed_forward\n",
        "    self.sublayer = clones(SublayerConnection(size,dropout),3)\n",
        "\n",
        "  def forward(self,x,memory,src_mask,tgt_mask):\n",
        "    m = memory\n",
        "    x = self.sublayer[0](x,lambda x: self.self_attn(x,x,x,tgt_mask))\n",
        "    x = self.sublayer[1](x,lambda x: self.src_attn(x,m,m,src_mask))\n",
        "    return self.sublayer[2](x,self.feed_forward)"
      ],
      "metadata": {
        "id": "CTwbxrtrh-JX"
      },
      "execution_count": null,
      "outputs": []
    },
    {
      "cell_type": "code",
      "source": [
        "def subsequent_mask(size):\n",
        "  attn_shape = (1,size,size)\n",
        "  subsequent_mask = torch.triu(torch.ones(attn_shape),diagonal=1).type(torch.uint8)\n",
        "  return subsequent_mask == 0"
      ],
      "metadata": {
        "id": "vU_m9TzWTeo1"
      },
      "execution_count": null,
      "outputs": []
    },
    {
      "cell_type": "code",
      "source": [
        "def attention(query,key,value,mask=None,dropout=None):\n",
        "  d_k = query.size(-1)\n",
        "  scores = torch.matmul(query,key.transpose(-2,-1)) / math.sqrt(d_k)\n",
        "  if mask is not None:\n",
        "    scores = scores.masked_fill(mask == 0, -1e9)\n",
        "  p_attn = scores.softmax(dim=-1)\n",
        "  if dropout is not None:\n",
        "    p_attn = dropout(p_attn)\n",
        "  return torch.matmul(p_attn,value),p_attn"
      ],
      "metadata": {
        "id": "cgxBWFxrU-iz"
      },
      "execution_count": null,
      "outputs": []
    },
    {
      "cell_type": "code",
      "source": [
        "class MultiHeadAttention(nn.Module):\n",
        "  def __init__(self,h,d_model,dropout=0.1):\n",
        "    super(MultiHeadAttention,self).__init__()\n",
        "    assert d_model % h == 0\n",
        "    #we assume d_v always equals d_k\n",
        "    self.d_k = d_model // h\n",
        "    self.h = h\n",
        "    self.linears = clones(nn.Linear(d_model,d_model),4)\n",
        "    self.attn = None\n",
        "    self.dropout = nn.Dropout(p=dropout)\n",
        "\n",
        "  def forward(self,query,key,value,mask=None):\n",
        "    if mask is not None:\n",
        "      mask = mask.unsqueeze(1)\n",
        "    nbatches = query.size(0)\n",
        "    \n",
        "    query,key,value = [\n",
        "        lin(x).view(nbatches,-1,self.h,self.d_k).transpose(1,2)\n",
        "        for lin,x in zip(self.linears,(query,key,value))\n",
        "    ]\n",
        "  \n",
        "    x, self.attn = attention(\n",
        "        query,key,value,mask=mask,dropout=self.dropout\n",
        "    )\n",
        "\n",
        "    x =  (\n",
        "        x.transpose(1,2).contiguous().view(nbatches,-1,self.h * self.d_k)\n",
        "    )\n",
        "\n",
        "    del query\n",
        "    del key\n",
        "    del value\n",
        "    return self.linears[-1](x)"
      ],
      "metadata": {
        "id": "IHEE2-nG8kZX"
      },
      "execution_count": null,
      "outputs": []
    },
    {
      "cell_type": "code",
      "source": [
        "class PositionWiseFeedForward(nn.Module):\n",
        "  def __init__(self,d_model,d_ff,dropout=0.1):\n",
        "    super(PositionWiseFeedForward,self).__init__()\n",
        "    self.w_1 = nn.Linear(d_model, d_ff)\n",
        "    self.w_2 = nn.Linear(d_ff,d_model)\n",
        "    self.dropout = nn.Dropout(dropout)\n",
        "\n",
        "  def forward(self,x):\n",
        "    return self.w_2(self.dropout(self.w_1(x).relu()))"
      ],
      "metadata": {
        "id": "4ego6Gb5LQrs"
      },
      "execution_count": null,
      "outputs": []
    },
    {
      "cell_type": "code",
      "source": [
        "class Embeddings(nn.Module):\n",
        "  def __init__(self, d_model,vocab):\n",
        "    super(Embeddings,self).__init__()\n",
        "    self.lut = nn.Embedding(vocab,d_model)\n",
        "    self.d_model = d_model\n",
        "\n",
        "  def forward(self,x):\n",
        "    return self.lut(x) * math.sqrt(self.d_model)"
      ],
      "metadata": {
        "id": "Fu-oHZhcqwq0"
      },
      "execution_count": null,
      "outputs": []
    },
    {
      "cell_type": "code",
      "source": [
        "class PositionalEncoding(nn.Module):\n",
        "  def __init__(self,d_model,dropout,max_len=5000):\n",
        "    super(PositionalEncoding,self).__init__()\n",
        "    self.dropout = nn.Dropout(p=dropout)\n",
        "\n",
        "    pe = torch.zeros(max_len,d_model)\n",
        "    position = torch.arange(0,max_len).unsqueeze(1)\n",
        "    div_term = torch.exp(\n",
        "        torch.arange(0,d_model,2) * (-math.log(10000.0) / d_model)\n",
        "    )\n",
        "    pe[:,0::2] = torch.sin(position * div_term)\n",
        "    pe[:,1::2] = torch.cos(position * div_term)\n",
        "    pe = pe.unsqueeze(0)\n",
        "    self.register_buffer(\"pe\",pe)\n",
        "  \n",
        "  def forward(self,x):\n",
        "    x = x + self.pe[:, :x.size(1)].requires_grad_(False)\n",
        "    return self.dropout(x)"
      ],
      "metadata": {
        "id": "mJfTXiMNFlxl"
      },
      "execution_count": null,
      "outputs": []
    },
    {
      "cell_type": "code",
      "source": [
        "def make_model(\n",
        "    src_vocab, tgt_vocab, N=6, d_model=512,d_ff=2048,h=8,dropout=0.1\n",
        "):\n",
        "  c = copy.deepcopy\n",
        "  attn = MultiHeadAttention(h,d_model)\n",
        "  ff = PositionWiseFeedForward(d_model,d_ff,dropout)\n",
        "  position = PositionalEncoding(d_model,dropout)\n",
        "  model = EncoderDecoder(\n",
        "      Encoder(EncoderLayer(d_model,c(attn),c(ff),dropout),N),\n",
        "      Decoder(DecoderLayer(d_model,c(attn),c(attn),c(ff),dropout),N),\n",
        "      nn.Sequential(Embeddings(d_model,src_vocab),c(position)),\n",
        "      nn.Sequential(Embeddings(d_model,tgt_vocab),c(position)),\n",
        "      Generator(d_model,tgt_vocab),\n",
        "  )\n",
        "\n",
        "  #Weights initialization\n",
        "  for p in model.parameters():\n",
        "    if p.dim() > 1:\n",
        "      nn.init.xavier_uniform_(p)\n",
        "\n",
        "  return model"
      ],
      "metadata": {
        "id": "u7Bnk8t7GmB3"
      },
      "execution_count": null,
      "outputs": []
    },
    {
      "cell_type": "code",
      "source": [
        "def inference_test():\n",
        "  test_model = make_model(11,11,2)\n",
        "  test_model.eval()\n",
        "  src = torch.LongTensor([[1,2,3,4,5,6,7,8,9,10]])\n",
        "  src_mask = torch.ones(1,1,10)\n",
        "\n",
        "  memory = test_model.encode(src,src_mask)\n",
        "  ys = torch.zeros(1,1).type_as(src)\n",
        "\n",
        "  for i in range(10):\n",
        "    out = test_model.decode(\n",
        "        memory,src_mask,ys,subsequent_mask(ys.size(1)).type_as(src.data)\n",
        "    )\n",
        "    prob = test_model.generator(out[:,-1])\n",
        "    _,next_word = torch.max(prob,dim=1)\n",
        "    next_word = next_word.data[0]\n",
        "    ys = torch.cat(\n",
        "        [ys,torch.empty(1,1).type_as(src.data).fill_(next_word)],dim=1\n",
        "    )\n",
        "  \n",
        "  print(\"Example Untrained Model Prediction: \",ys)\n",
        "\n",
        "\n",
        "def run_tests():\n",
        "  for _ in range(10):\n",
        "    inference_test()\n",
        "\n",
        "\n",
        "show_example(run_tests)"
      ],
      "metadata": {
        "colab": {
          "base_uri": "https://localhost:8080/"
        },
        "id": "cO-4o577Vm9M",
        "outputId": "54d6f50e-ef15-49b9-86ed-aae381657aa7"
      },
      "execution_count": null,
      "outputs": [
        {
          "output_type": "stream",
          "name": "stdout",
          "text": [
            "Example Untrained Model Prediction:  tensor([[ 0,  3,  8,  4, 10, 10, 10, 10, 10, 10, 10]])\n",
            "Example Untrained Model Prediction:  tensor([[0, 8, 7, 9, 7, 9, 7, 9, 7, 9, 7]])\n",
            "Example Untrained Model Prediction:  tensor([[ 0,  2, 10,  1,  1,  1,  1,  1,  1,  1,  1]])\n",
            "Example Untrained Model Prediction:  tensor([[0, 3, 2, 1, 3, 2, 3, 2, 3, 2, 3]])\n",
            "Example Untrained Model Prediction:  tensor([[0, 1, 0, 1, 0, 1, 0, 1, 0, 1, 0]])\n",
            "Example Untrained Model Prediction:  tensor([[0, 0, 0, 0, 0, 0, 0, 0, 0, 0, 0]])\n",
            "Example Untrained Model Prediction:  tensor([[0, 1, 7, 9, 0, 1, 1, 1, 1, 1, 7]])\n",
            "Example Untrained Model Prediction:  tensor([[0, 7, 1, 7, 1, 7, 1, 1, 1, 1, 1]])\n",
            "Example Untrained Model Prediction:  tensor([[ 0, 10,  9,  9,  2,  7,  4,  4,  9, 10,  5]])\n",
            "Example Untrained Model Prediction:  tensor([[0, 3, 0, 2, 5, 7, 3, 0, 2, 5, 4]])\n"
          ]
        }
      ]
    },
    {
      "cell_type": "code",
      "source": [
        "class Batch:\n",
        "  def __init__(self,src,tgt=None,pad=2):\n",
        "    self.src = src\n",
        "    self.src_mask = (src != pad).unsqueeze(-2)\n",
        "    if tgt is not None:\n",
        "      self.tgt = tgt[:,:-1]\n",
        "      self.tgt_y = tgt[:,1:]\n",
        "      self.tgt_mask = self.make_std_mask(self.tgt, pad)\n",
        "      self.ntokens = (self.tgt_y != pad).data.sum()\n",
        "\n",
        "  @staticmethod\n",
        "  def make_std_mask(tgt,pad):\n",
        "    tgt_mask = (tgt != pad).unsqueeze(-2)\n",
        "    tgt_mask = tgt_mask & subsequent_mask(tgt.size(-1)).type_as(tgt_mask.data)\n",
        "    return tgt_mask"
      ],
      "metadata": {
        "id": "klAMqFF8oYW9"
      },
      "execution_count": null,
      "outputs": []
    },
    {
      "cell_type": "code",
      "source": [
        "class TrainState:\n",
        "  step: int = 0\n",
        "  accum_step : int = 0\n",
        "  samples : int = 0\n",
        "  tokens : int = 0"
      ],
      "metadata": {
        "id": "VlBKfRGwaSxS"
      },
      "execution_count": null,
      "outputs": []
    },
    {
      "cell_type": "code",
      "source": [
        "def run_epoch(\n",
        "    data_iter,model,loss_compute,optimizer,\n",
        "    scheduler,mode=\"train\",accum_iter=1,train_state=TrainState(),\n",
        "):\n",
        "  start = time.time()\n",
        "  total_tokens = 0\n",
        "  total_loss = 0\n",
        "  tokens = 0\n",
        "  n_accum = 0\n",
        "  for i,batch in enumerate(data_iter):\n",
        "    out = model.forward(batch.src,batch.tgt,batch.src_mask,batch.tgt_mask)\n",
        "    loss,loss_node = loss_compute(out,batch.tgt_y,batch.ntokens)\n",
        "    if mode == \"train\" or mode == \"train+log\":\n",
        "      loss_node.backward()\n",
        "      train_state.step += 1\n",
        "      train_state.samples += batch.src.shape[0]\n",
        "      train_state.tokens += batch.ntokens\n",
        "      if i % accum_iter == 0:\n",
        "        optimizer.step()\n",
        "        optimizer.zero_grad(set_to_none=True)\n",
        "        n_accum += 1\n",
        "        train_state.accum_step += 1\n",
        "      scheduler.step()\n",
        "\n",
        "    total_loss += loss\n",
        "    total_tokens += batch.ntokens\n",
        "    tokens += batch.ntokens\n",
        "    if i % 40 == 1 and (mode == \"train\" or mode == \"train+log\"):\n",
        "      lr = optimizer.param_groups[0][\"lr\"]\n",
        "      elapsed = time.time() - start\n",
        "      print(\n",
        "          (\"Epoch Step: %6d | Accumulation Step: %3d | Loss: %6.2f \" +\n",
        "          \"|Tokens / Sec: %7.1f | Learning Rate: %6.1e\"\n",
        "          ) % (i, n_accum, loss / batch.ntokens, tokens / elapsed, lr)\n",
        "      )\n",
        "      start = time.time()\n",
        "      tokens = 0\n",
        "    del loss\n",
        "    del loss_node\n",
        "  return total_loss / total_tokens, train_state"
      ],
      "metadata": {
        "id": "uPmAcXlra2nP"
      },
      "execution_count": null,
      "outputs": []
    },
    {
      "cell_type": "code",
      "source": [
        "def rate(step,model_size,factor,warmup):\n",
        "  if step == 0:\n",
        "    step = 1\n",
        "  return factor * (\n",
        "      model_size ** (-0.5) * min(step ** (-0.5), step * warmup ** (-1.5))\n",
        "  )"
      ],
      "metadata": {
        "id": "Rvqf-sMynsaA"
      },
      "execution_count": null,
      "outputs": []
    },
    {
      "cell_type": "code",
      "source": [
        "class LabelSmoothing(nn.Module):\n",
        "  def __init__(self,size,padding_idx,smoothing=0.0):\n",
        "    super(LabelSmoothing,self).__init__()\n",
        "    self.criterion = nn.KLDivLoss(reduction=\"sum\")\n",
        "    self.padding_idx = padding_idx\n",
        "    self.smoothing = smoothing\n",
        "    self.confidence = 1.0 - smoothing\n",
        "    self.size = size\n",
        "    self.true_dist = None\n",
        "  \n",
        "  def forward(self,x,target):\n",
        "    assert x.size(1) == self.size\n",
        "    true_dist = x.data.clone()\n",
        "    true_dist.fill_(self.smoothing / (self.size - 2))\n",
        "    true_dist.scatter_(1,target.data.unsqueeze(1),self.confidence)\n",
        "    true_dist[:,self.padding_idx] = 0\n",
        "    mask = torch.nonzero(target.data == self.padding_idx)\n",
        "    if mask.dim() > 0:\n",
        "      true_dist.index_fill_(0,mask.squeeze(),0.0)\n",
        "    self.true_dist = true_dist\n",
        "    return self.criterion(x,true_dist.clone().detach()) "
      ],
      "metadata": {
        "id": "rflbeBum1Qhj"
      },
      "execution_count": null,
      "outputs": []
    },
    {
      "cell_type": "code",
      "source": [
        "class SimpleLossCompute:\n",
        "  def __init__(self,generator,criterion):\n",
        "    self.generator = generator\n",
        "    self.criterion = criterion\n",
        "\n",
        "  def __call__(self,x,y,norm):\n",
        "    x = self.generator(x)\n",
        "    sloss = self.criterion(x.contiguous().view(-1,x.size(-1)),y.contiguous().view(-1)) / norm\n",
        "\n",
        "    return sloss.data * norm, sloss"
      ],
      "metadata": {
        "id": "75Y1MAQmUfZk"
      },
      "execution_count": null,
      "outputs": []
    },
    {
      "cell_type": "code",
      "source": [
        "def greedy_decode(model, src, src_mask, max_len, start_symbol):\n",
        "    memory = model.encode(src, src_mask)\n",
        "    ys = torch.zeros(1, 1).fill_(start_symbol).type_as(src.data)\n",
        "    for i in range(max_len - 1):\n",
        "        out = model.decode(\n",
        "            memory, src_mask, ys, subsequent_mask(ys.size(1)).type_as(src.data)\n",
        "        )\n",
        "        prob = model.generator(out[:, -1])\n",
        "        _, next_word = torch.max(prob, dim=1)\n",
        "        next_word = next_word.data[0]\n",
        "        ys = torch.cat(\n",
        "            [ys, torch.zeros(1, 1).type_as(src.data).fill_(next_word)], dim=1\n",
        "        )\n",
        "    return ys"
      ],
      "metadata": {
        "id": "Tt6eGq7XV-T_"
      },
      "execution_count": null,
      "outputs": []
    },
    {
      "cell_type": "code",
      "source": [
        "def data_gen(V, batch_size, nbatches):\n",
        "    \"Generate random data for a src-tgt copy task.\"\n",
        "    for i in range(nbatches):\n",
        "        data = torch.randint(1, V, size=(batch_size, 10))\n",
        "        data[:, 0] = 1\n",
        "        src = data.requires_grad_(False).clone().detach()\n",
        "        tgt = data.requires_grad_(False).clone().detach()\n",
        "        yield Batch(src, tgt, 0)"
      ],
      "metadata": {
        "id": "0I8BKzaoW0XB"
      },
      "execution_count": null,
      "outputs": []
    },
    {
      "cell_type": "code",
      "source": [
        "def execute_example(fn, args=[]):\n",
        "    if __name__ == \"__main__\" and RUN_EXAMPLES:\n",
        "        fn(*args)"
      ],
      "metadata": {
        "id": "Vo3qcXXfW9jC"
      },
      "execution_count": null,
      "outputs": []
    },
    {
      "cell_type": "code",
      "source": [
        "from tqdm import tqdm"
      ],
      "metadata": {
        "id": "V7J8aQ3Db9Rp"
      },
      "execution_count": null,
      "outputs": []
    },
    {
      "cell_type": "code",
      "source": [
        "def example_simple_model():\n",
        "    V = 11\n",
        "    criterion = LabelSmoothing(size=V, padding_idx=0, smoothing=0.0)\n",
        "    model = make_model(V, V, N=2)\n",
        "\n",
        "    optimizer = torch.optim.Adam(\n",
        "        model.parameters(), lr=0.5, betas=(0.9, 0.98), eps=1e-9\n",
        "    )\n",
        "    lr_scheduler = LambdaLR(\n",
        "        optimizer=optimizer,\n",
        "        lr_lambda=lambda step: rate(\n",
        "            step, model_size=model.src_embed[0].d_model, factor=1.0, warmup=400\n",
        "        ),\n",
        "    )\n",
        "\n",
        "    batch_size = 80\n",
        "    for epoch in tqdm(range(120)):\n",
        "        model.train()\n",
        "        run_epoch(\n",
        "            data_gen(V, batch_size, 20),\n",
        "            model,\n",
        "            SimpleLossCompute(model.generator, criterion),\n",
        "            optimizer,\n",
        "            lr_scheduler,\n",
        "            mode=\"train\",\n",
        "        )\n",
        "        model.eval()\n",
        "        run_epoch(\n",
        "            data_gen(V, batch_size, 5),\n",
        "            model,\n",
        "            SimpleLossCompute(model.generator, criterion),\n",
        "            DummyOptimizer(),\n",
        "            DummyScheduler(),\n",
        "            mode=\"eval\",\n",
        "        )[0]\n",
        "\n",
        "    model.eval()\n",
        "    src = torch.LongTensor([[0, 1, 2, 3, 4, 5, 6, 7, 8, 9]])\n",
        "    max_len = src.shape[1]\n",
        "    src_mask = torch.ones(1, 1, max_len)\n",
        "    print(greedy_decode(model, src, src_mask, max_len=max_len, start_symbol=0))\n",
        "\n",
        "\n",
        "execute_example(example_simple_model)"
      ],
      "metadata": {
        "colab": {
          "base_uri": "https://localhost:8080/"
        },
        "id": "5phnt4XBWSg2",
        "outputId": "3576a083-9d1a-450c-dbb2-87ce3c5246bd"
      },
      "execution_count": null,
      "outputs": [
        {
          "metadata": {
            "tags": null
          },
          "name": "stderr",
          "output_type": "stream",
          "text": [
            "\r  0%|          | 0/120 [00:00<?, ?it/s]"
          ]
        },
        {
          "metadata": {
            "tags": null
          },
          "name": "stdout",
          "output_type": "stream",
          "text": [
            "Epoch Step:      1 | Accumulation Step:   2 | Loss:   3.10 |Tokens / Sec:   439.2 | Learning Rate: 5.5e-06\n"
          ]
        },
        {
          "metadata": {
            "tags": null
          },
          "name": "stderr",
          "output_type": "stream",
          "text": [
            "\r  1%|          | 1/120 [00:34<1:08:31, 34.55s/it]"
          ]
        },
        {
          "metadata": {
            "tags": null
          },
          "name": "stdout",
          "output_type": "stream",
          "text": [
            "Epoch Step:      1 | Accumulation Step:   2 | Loss:   2.14 |Tokens / Sec:   466.6 | Learning Rate: 6.1e-05\n"
          ]
        },
        {
          "metadata": {
            "tags": null
          },
          "name": "stderr",
          "output_type": "stream",
          "text": [
            "\r  2%|▏         | 2/120 [01:07<1:05:46, 33.44s/it]"
          ]
        },
        {
          "metadata": {
            "tags": null
          },
          "name": "stdout",
          "output_type": "stream",
          "text": [
            "Epoch Step:      1 | Accumulation Step:   2 | Loss:   1.77 |Tokens / Sec:   470.1 | Learning Rate: 1.2e-04\n"
          ]
        },
        {
          "metadata": {
            "tags": null
          },
          "name": "stderr",
          "output_type": "stream",
          "text": [
            "\r  2%|▎         | 3/120 [01:41<1:06:13, 33.96s/it]"
          ]
        },
        {
          "metadata": {
            "tags": null
          },
          "name": "stdout",
          "output_type": "stream",
          "text": [
            "Epoch Step:      1 | Accumulation Step:   2 | Loss:   1.53 |Tokens / Sec:   477.3 | Learning Rate: 1.7e-04\n"
          ]
        },
        {
          "metadata": {
            "tags": null
          },
          "name": "stderr",
          "output_type": "stream",
          "text": [
            "\r  3%|▎         | 4/120 [02:14<1:04:39, 33.44s/it]"
          ]
        },
        {
          "metadata": {
            "tags": null
          },
          "name": "stdout",
          "output_type": "stream",
          "text": [
            "Epoch Step:      1 | Accumulation Step:   2 | Loss:   1.08 |Tokens / Sec:   473.4 | Learning Rate: 2.3e-04\n"
          ]
        },
        {
          "metadata": {
            "tags": null
          },
          "name": "stderr",
          "output_type": "stream",
          "text": [
            "\r  4%|▍         | 5/120 [02:47<1:03:29, 33.13s/it]"
          ]
        },
        {
          "metadata": {
            "tags": null
          },
          "name": "stdout",
          "output_type": "stream",
          "text": [
            "Epoch Step:      1 | Accumulation Step:   2 | Loss:   0.60 |Tokens / Sec:   472.3 | Learning Rate: 2.8e-04\n"
          ]
        },
        {
          "metadata": {
            "tags": null
          },
          "name": "stderr",
          "output_type": "stream",
          "text": [
            "\r  5%|▌         | 6/120 [03:21<1:03:47, 33.58s/it]"
          ]
        },
        {
          "metadata": {
            "tags": null
          },
          "name": "stdout",
          "output_type": "stream",
          "text": [
            "Epoch Step:      1 | Accumulation Step:   2 | Loss:   0.37 |Tokens / Sec:   476.9 | Learning Rate: 3.4e-04\n"
          ]
        },
        {
          "metadata": {
            "tags": null
          },
          "name": "stderr",
          "output_type": "stream",
          "text": [
            "\r  6%|▌         | 7/120 [03:54<1:02:44, 33.32s/it]"
          ]
        },
        {
          "metadata": {
            "tags": null
          },
          "name": "stdout",
          "output_type": "stream",
          "text": [
            "Epoch Step:      1 | Accumulation Step:   2 | Loss:   0.20 |Tokens / Sec:   474.6 | Learning Rate: 3.9e-04\n"
          ]
        },
        {
          "metadata": {
            "tags": null
          },
          "name": "stderr",
          "output_type": "stream",
          "text": [
            "\r  7%|▋         | 8/120 [04:28<1:02:55, 33.71s/it]"
          ]
        },
        {
          "metadata": {
            "tags": null
          },
          "name": "stdout",
          "output_type": "stream",
          "text": [
            "Epoch Step:      1 | Accumulation Step:   2 | Loss:   0.18 |Tokens / Sec:   473.4 | Learning Rate: 4.5e-04\n"
          ]
        },
        {
          "metadata": {
            "tags": null
          },
          "name": "stderr",
          "output_type": "stream",
          "text": [
            "\r  8%|▊         | 9/120 [05:01<1:01:42, 33.36s/it]"
          ]
        },
        {
          "metadata": {
            "tags": null
          },
          "name": "stdout",
          "output_type": "stream",
          "text": [
            "Epoch Step:      1 | Accumulation Step:   2 | Loss:   0.12 |Tokens / Sec:   466.1 | Learning Rate: 5.0e-04\n"
          ]
        },
        {
          "metadata": {
            "tags": null
          },
          "name": "stderr",
          "output_type": "stream",
          "text": [
            "\r  8%|▊         | 10/120 [05:34<1:00:47, 33.16s/it]"
          ]
        },
        {
          "metadata": {
            "tags": null
          },
          "name": "stdout",
          "output_type": "stream",
          "text": [
            "Epoch Step:      1 | Accumulation Step:   2 | Loss:   0.23 |Tokens / Sec:   406.4 | Learning Rate: 5.6e-04\n"
          ]
        },
        {
          "metadata": {
            "tags": null
          },
          "name": "stderr",
          "output_type": "stream",
          "text": [
            "\r  9%|▉         | 11/120 [06:08<1:00:53, 33.52s/it]"
          ]
        },
        {
          "metadata": {
            "tags": null
          },
          "name": "stdout",
          "output_type": "stream",
          "text": [
            "Epoch Step:      1 | Accumulation Step:   2 | Loss:   0.15 |Tokens / Sec:   479.8 | Learning Rate: 6.1e-04\n"
          ]
        },
        {
          "metadata": {
            "tags": null
          },
          "name": "stderr",
          "output_type": "stream",
          "text": [
            "\r 10%|█         | 12/120 [06:40<59:48, 33.23s/it]  "
          ]
        },
        {
          "metadata": {
            "tags": null
          },
          "name": "stdout",
          "output_type": "stream",
          "text": [
            "Epoch Step:      1 | Accumulation Step:   2 | Loss:   0.14 |Tokens / Sec:   478.7 | Learning Rate: 6.7e-04\n"
          ]
        },
        {
          "metadata": {
            "tags": null
          },
          "name": "stderr",
          "output_type": "stream",
          "text": [
            "\r 11%|█         | 13/120 [07:15<59:50, 33.55s/it]"
          ]
        },
        {
          "metadata": {
            "tags": null
          },
          "name": "stdout",
          "output_type": "stream",
          "text": [
            "Epoch Step:      1 | Accumulation Step:   2 | Loss:   0.14 |Tokens / Sec:   480.0 | Learning Rate: 7.2e-04\n"
          ]
        },
        {
          "metadata": {
            "tags": null
          },
          "name": "stderr",
          "output_type": "stream",
          "text": [
            "\r 12%|█▏        | 14/120 [07:47<58:38, 33.19s/it]"
          ]
        },
        {
          "metadata": {
            "tags": null
          },
          "name": "stdout",
          "output_type": "stream",
          "text": [
            "Epoch Step:      1 | Accumulation Step:   2 | Loss:   0.09 |Tokens / Sec:   469.2 | Learning Rate: 7.8e-04\n"
          ]
        },
        {
          "metadata": {
            "tags": null
          },
          "name": "stderr",
          "output_type": "stream",
          "text": [
            "\r 12%|█▎        | 15/120 [08:20<57:47, 33.03s/it]"
          ]
        },
        {
          "metadata": {
            "tags": null
          },
          "name": "stdout",
          "output_type": "stream",
          "text": [
            "Epoch Step:      1 | Accumulation Step:   2 | Loss:   0.05 |Tokens / Sec:   363.5 | Learning Rate: 8.3e-04\n"
          ]
        },
        {
          "metadata": {
            "tags": null
          },
          "name": "stderr",
          "output_type": "stream",
          "text": [
            "\r 13%|█▎        | 16/120 [08:54<57:50, 33.37s/it]"
          ]
        },
        {
          "metadata": {
            "tags": null
          },
          "name": "stdout",
          "output_type": "stream",
          "text": [
            "Epoch Step:      1 | Accumulation Step:   2 | Loss:   0.08 |Tokens / Sec:   481.0 | Learning Rate: 8.9e-04\n"
          ]
        },
        {
          "metadata": {
            "tags": null
          },
          "name": "stderr",
          "output_type": "stream",
          "text": [
            "\r 14%|█▍        | 17/120 [09:26<56:50, 33.11s/it]"
          ]
        },
        {
          "metadata": {
            "tags": null
          },
          "name": "stdout",
          "output_type": "stream",
          "text": [
            "Epoch Step:      1 | Accumulation Step:   2 | Loss:   0.11 |Tokens / Sec:   476.5 | Learning Rate: 9.4e-04\n"
          ]
        },
        {
          "metadata": {
            "tags": null
          },
          "name": "stderr",
          "output_type": "stream",
          "text": [
            "\r 15%|█▌        | 18/120 [10:01<56:56, 33.50s/it]"
          ]
        },
        {
          "metadata": {
            "tags": null
          },
          "name": "stdout",
          "output_type": "stream",
          "text": [
            "Epoch Step:      1 | Accumulation Step:   2 | Loss:   0.11 |Tokens / Sec:   471.5 | Learning Rate: 1.0e-03\n"
          ]
        },
        {
          "metadata": {
            "tags": null
          },
          "name": "stderr",
          "output_type": "stream",
          "text": [
            "\r 16%|█▌        | 19/120 [10:33<55:52, 33.19s/it]"
          ]
        },
        {
          "metadata": {
            "tags": null
          },
          "name": "stdout",
          "output_type": "stream",
          "text": [
            "Epoch Step:      1 | Accumulation Step:   2 | Loss:   0.23 |Tokens / Sec:   470.3 | Learning Rate: 1.1e-03\n"
          ]
        },
        {
          "metadata": {
            "tags": null
          },
          "name": "stderr",
          "output_type": "stream",
          "text": [
            "\r 17%|█▋        | 20/120 [11:07<55:23, 33.24s/it]"
          ]
        },
        {
          "metadata": {
            "tags": null
          },
          "name": "stdout",
          "output_type": "stream",
          "text": [
            "Epoch Step:      1 | Accumulation Step:   2 | Loss:   0.13 |Tokens / Sec:   335.5 | Learning Rate: 1.1e-03\n"
          ]
        },
        {
          "metadata": {
            "tags": null
          },
          "name": "stderr",
          "output_type": "stream",
          "text": [
            "\r 18%|█▊        | 21/120 [11:40<55:01, 33.35s/it]"
          ]
        },
        {
          "metadata": {
            "tags": null
          },
          "name": "stdout",
          "output_type": "stream",
          "text": [
            "Epoch Step:      1 | Accumulation Step:   2 | Loss:   0.13 |Tokens / Sec:   481.5 | Learning Rate: 1.1e-03\n"
          ]
        },
        {
          "metadata": {
            "tags": null
          },
          "name": "stderr",
          "output_type": "stream",
          "text": [
            "\r 18%|█▊        | 22/120 [12:13<54:07, 33.14s/it]"
          ]
        },
        {
          "metadata": {
            "tags": null
          },
          "name": "stdout",
          "output_type": "stream",
          "text": [
            "Epoch Step:      1 | Accumulation Step:   2 | Loss:   0.14 |Tokens / Sec:   476.3 | Learning Rate: 1.1e-03\n"
          ]
        },
        {
          "metadata": {
            "tags": null
          },
          "name": "stderr",
          "output_type": "stream",
          "text": [
            "\r 19%|█▉        | 23/120 [12:47<54:13, 33.54s/it]"
          ]
        },
        {
          "metadata": {
            "tags": null
          },
          "name": "stdout",
          "output_type": "stream",
          "text": [
            "Epoch Step:      1 | Accumulation Step:   2 | Loss:   0.12 |Tokens / Sec:   469.3 | Learning Rate: 1.0e-03\n"
          ]
        },
        {
          "metadata": {
            "tags": null
          },
          "name": "stderr",
          "output_type": "stream",
          "text": [
            "\r 20%|██        | 24/120 [13:20<53:18, 33.31s/it]"
          ]
        },
        {
          "metadata": {
            "tags": null
          },
          "name": "stdout",
          "output_type": "stream",
          "text": [
            "Epoch Step:      1 | Accumulation Step:   2 | Loss:   0.09 |Tokens / Sec:   470.2 | Learning Rate: 1.0e-03\n"
          ]
        },
        {
          "metadata": {
            "tags": null
          },
          "name": "stderr",
          "output_type": "stream",
          "text": [
            "\r 21%|██        | 25/120 [13:55<53:25, 33.74s/it]"
          ]
        },
        {
          "metadata": {
            "tags": null
          },
          "name": "stdout",
          "output_type": "stream",
          "text": [
            "Epoch Step:      1 | Accumulation Step:   2 | Loss:   0.10 |Tokens / Sec:   471.8 | Learning Rate: 9.9e-04\n"
          ]
        },
        {
          "metadata": {
            "tags": null
          },
          "name": "stderr",
          "output_type": "stream",
          "text": [
            "\r 22%|██▏       | 26/120 [14:28<52:29, 33.51s/it]"
          ]
        },
        {
          "metadata": {
            "tags": null
          },
          "name": "stdout",
          "output_type": "stream",
          "text": [
            "Epoch Step:      1 | Accumulation Step:   2 | Loss:   0.08 |Tokens / Sec:   470.0 | Learning Rate: 9.7e-04\n"
          ]
        },
        {
          "metadata": {
            "tags": null
          },
          "name": "stderr",
          "output_type": "stream",
          "text": [
            "\r 22%|██▎       | 27/120 [15:01<51:42, 33.36s/it]"
          ]
        },
        {
          "metadata": {
            "tags": null
          },
          "name": "stdout",
          "output_type": "stream",
          "text": [
            "Epoch Step:      1 | Accumulation Step:   2 | Loss:   0.05 |Tokens / Sec:   461.1 | Learning Rate: 9.5e-04\n"
          ]
        },
        {
          "metadata": {
            "tags": null
          },
          "name": "stderr",
          "output_type": "stream",
          "text": [
            "\r 23%|██▎       | 28/120 [15:36<51:49, 33.80s/it]"
          ]
        },
        {
          "metadata": {
            "tags": null
          },
          "name": "stdout",
          "output_type": "stream",
          "text": [
            "Epoch Step:      1 | Accumulation Step:   2 | Loss:   0.07 |Tokens / Sec:   465.7 | Learning Rate: 9.3e-04\n"
          ]
        },
        {
          "metadata": {
            "tags": null
          },
          "name": "stderr",
          "output_type": "stream",
          "text": [
            "\r 24%|██▍       | 29/120 [16:09<51:05, 33.68s/it]"
          ]
        },
        {
          "metadata": {
            "tags": null
          },
          "name": "stdout",
          "output_type": "stream",
          "text": [
            "Epoch Step:      1 | Accumulation Step:   2 | Loss:   0.08 |Tokens / Sec:   456.7 | Learning Rate: 9.2e-04\n"
          ]
        },
        {
          "metadata": {
            "tags": null
          },
          "name": "stderr",
          "output_type": "stream",
          "text": [
            "\r 25%|██▌       | 30/120 [16:44<51:11, 34.12s/it]"
          ]
        },
        {
          "metadata": {
            "tags": null
          },
          "name": "stdout",
          "output_type": "stream",
          "text": [
            "Epoch Step:      1 | Accumulation Step:   2 | Loss:   0.06 |Tokens / Sec:   454.5 | Learning Rate: 9.0e-04\n"
          ]
        },
        {
          "metadata": {
            "tags": null
          },
          "name": "stderr",
          "output_type": "stream",
          "text": [
            "\r 26%|██▌       | 31/120 [17:18<50:19, 33.93s/it]"
          ]
        },
        {
          "metadata": {
            "tags": null
          },
          "name": "stdout",
          "output_type": "stream",
          "text": [
            "Epoch Step:      1 | Accumulation Step:   2 | Loss:   0.06 |Tokens / Sec:   457.9 | Learning Rate: 8.9e-04\n"
          ]
        },
        {
          "metadata": {
            "tags": null
          },
          "name": "stderr",
          "output_type": "stream",
          "text": [
            "\r 27%|██▋       | 32/120 [17:51<49:34, 33.80s/it]"
          ]
        },
        {
          "metadata": {
            "tags": null
          },
          "name": "stdout",
          "output_type": "stream",
          "text": [
            "Epoch Step:      1 | Accumulation Step:   2 | Loss:   0.05 |Tokens / Sec:   420.8 | Learning Rate: 8.7e-04\n"
          ]
        },
        {
          "metadata": {
            "tags": null
          },
          "name": "stderr",
          "output_type": "stream",
          "text": [
            "\r 28%|██▊       | 33/120 [18:26<49:34, 34.19s/it]"
          ]
        },
        {
          "metadata": {
            "tags": null
          },
          "name": "stdout",
          "output_type": "stream",
          "text": [
            "Epoch Step:      1 | Accumulation Step:   2 | Loss:   0.08 |Tokens / Sec:   464.3 | Learning Rate: 8.6e-04\n"
          ]
        },
        {
          "metadata": {
            "tags": null
          },
          "name": "stderr",
          "output_type": "stream",
          "text": [
            "\r 28%|██▊       | 34/120 [19:00<48:49, 34.06s/it]"
          ]
        },
        {
          "metadata": {
            "tags": null
          },
          "name": "stdout",
          "output_type": "stream",
          "text": [
            "Epoch Step:      1 | Accumulation Step:   2 | Loss:   0.06 |Tokens / Sec:   451.0 | Learning Rate: 8.5e-04\n"
          ]
        },
        {
          "metadata": {
            "tags": null
          },
          "name": "stderr",
          "output_type": "stream",
          "text": [
            "\r 29%|██▉       | 35/120 [19:36<48:54, 34.52s/it]"
          ]
        },
        {
          "metadata": {
            "tags": null
          },
          "name": "stdout",
          "output_type": "stream",
          "text": [
            "Epoch Step:      1 | Accumulation Step:   2 | Loss:   0.11 |Tokens / Sec:   452.3 | Learning Rate: 8.3e-04\n"
          ]
        },
        {
          "metadata": {
            "tags": null
          },
          "name": "stderr",
          "output_type": "stream",
          "text": [
            "\r 30%|███       | 36/120 [20:10<48:07, 34.37s/it]"
          ]
        },
        {
          "metadata": {
            "tags": null
          },
          "name": "stdout",
          "output_type": "stream",
          "text": [
            "Epoch Step:      1 | Accumulation Step:   2 | Loss:   0.04 |Tokens / Sec:   454.8 | Learning Rate: 8.2e-04\n"
          ]
        },
        {
          "metadata": {
            "tags": null
          },
          "name": "stderr",
          "output_type": "stream",
          "text": [
            "\r 31%|███       | 37/120 [20:46<48:07, 34.79s/it]"
          ]
        },
        {
          "metadata": {
            "tags": null
          },
          "name": "stdout",
          "output_type": "stream",
          "text": [
            "Epoch Step:      1 | Accumulation Step:   2 | Loss:   0.10 |Tokens / Sec:   443.6 | Learning Rate: 8.1e-04\n"
          ]
        },
        {
          "metadata": {
            "tags": null
          },
          "name": "stderr",
          "output_type": "stream",
          "text": [
            "\r 32%|███▏      | 38/120 [21:20<47:27, 34.73s/it]"
          ]
        },
        {
          "metadata": {
            "tags": null
          },
          "name": "stdout",
          "output_type": "stream",
          "text": [
            "Epoch Step:      1 | Accumulation Step:   2 | Loss:   0.07 |Tokens / Sec:   441.4 | Learning Rate: 8.0e-04\n"
          ]
        },
        {
          "metadata": {
            "tags": null
          },
          "name": "stderr",
          "output_type": "stream",
          "text": [
            "\r 32%|███▎      | 39/120 [21:55<46:55, 34.76s/it]"
          ]
        },
        {
          "metadata": {
            "tags": null
          },
          "name": "stdout",
          "output_type": "stream",
          "text": [
            "Epoch Step:      1 | Accumulation Step:   2 | Loss:   0.13 |Tokens / Sec:   320.8 | Learning Rate: 7.9e-04\n"
          ]
        },
        {
          "metadata": {
            "tags": null
          },
          "name": "stderr",
          "output_type": "stream",
          "text": [
            "\r 33%|███▎      | 40/120 [22:31<46:54, 35.18s/it]"
          ]
        },
        {
          "metadata": {
            "tags": null
          },
          "name": "stdout",
          "output_type": "stream",
          "text": [
            "Epoch Step:      1 | Accumulation Step:   2 | Loss:   0.07 |Tokens / Sec:   452.8 | Learning Rate: 7.8e-04\n"
          ]
        },
        {
          "metadata": {
            "tags": null
          },
          "name": "stderr",
          "output_type": "stream",
          "text": [
            "\r 34%|███▍      | 41/120 [23:05<45:57, 34.90s/it]"
          ]
        },
        {
          "metadata": {
            "tags": null
          },
          "name": "stdout",
          "output_type": "stream",
          "text": [
            "Epoch Step:      1 | Accumulation Step:   2 | Loss:   0.03 |Tokens / Sec:   447.7 | Learning Rate: 7.7e-04\n"
          ]
        },
        {
          "metadata": {
            "tags": null
          },
          "name": "stderr",
          "output_type": "stream",
          "text": [
            "\r 35%|███▌      | 42/120 [23:41<45:51, 35.27s/it]"
          ]
        },
        {
          "metadata": {
            "tags": null
          },
          "name": "stdout",
          "output_type": "stream",
          "text": [
            "Epoch Step:      1 | Accumulation Step:   2 | Loss:   0.08 |Tokens / Sec:   452.0 | Learning Rate: 7.6e-04\n"
          ]
        },
        {
          "metadata": {
            "tags": null
          },
          "name": "stderr",
          "output_type": "stream",
          "text": [
            "\r 36%|███▌      | 43/120 [24:16<45:06, 35.15s/it]"
          ]
        },
        {
          "metadata": {
            "tags": null
          },
          "name": "stdout",
          "output_type": "stream",
          "text": [
            "Epoch Step:      1 | Accumulation Step:   2 | Loss:   0.04 |Tokens / Sec:   434.8 | Learning Rate: 7.5e-04\n"
          ]
        },
        {
          "metadata": {
            "tags": null
          },
          "name": "stderr",
          "output_type": "stream",
          "text": [
            "\r 37%|███▋      | 44/120 [24:53<45:12, 35.69s/it]"
          ]
        },
        {
          "metadata": {
            "tags": null
          },
          "name": "stdout",
          "output_type": "stream",
          "text": [
            "Epoch Step:      1 | Accumulation Step:   2 | Loss:   0.05 |Tokens / Sec:   442.6 | Learning Rate: 7.4e-04\n"
          ]
        },
        {
          "metadata": {
            "tags": null
          },
          "name": "stderr",
          "output_type": "stream",
          "text": [
            "\r 38%|███▊      | 45/120 [25:29<44:34, 35.66s/it]"
          ]
        },
        {
          "metadata": {
            "tags": null
          },
          "name": "stdout",
          "output_type": "stream",
          "text": [
            "Epoch Step:      1 | Accumulation Step:   2 | Loss:   0.03 |Tokens / Sec:   431.9 | Learning Rate: 7.4e-04\n"
          ]
        },
        {
          "metadata": {
            "tags": null
          },
          "name": "stderr",
          "output_type": "stream",
          "text": [
            "\r 38%|███▊      | 46/120 [26:06<44:40, 36.23s/it]"
          ]
        },
        {
          "metadata": {
            "tags": null
          },
          "name": "stdout",
          "output_type": "stream",
          "text": [
            "Epoch Step:      1 | Accumulation Step:   2 | Loss:   0.05 |Tokens / Sec:   432.1 | Learning Rate: 7.3e-04\n"
          ]
        },
        {
          "metadata": {
            "tags": null
          },
          "name": "stderr",
          "output_type": "stream",
          "text": [
            "\r 39%|███▉      | 47/120 [26:42<43:56, 36.11s/it]"
          ]
        },
        {
          "metadata": {
            "tags": null
          },
          "name": "stdout",
          "output_type": "stream",
          "text": [
            "Epoch Step:      1 | Accumulation Step:   2 | Loss:   0.04 |Tokens / Sec:   426.4 | Learning Rate: 7.2e-04\n"
          ]
        },
        {
          "metadata": {
            "tags": null
          },
          "name": "stderr",
          "output_type": "stream",
          "text": [
            "\r 40%|████      | 48/120 [27:19<43:36, 36.33s/it]"
          ]
        },
        {
          "metadata": {
            "tags": null
          },
          "name": "stdout",
          "output_type": "stream",
          "text": [
            "Epoch Step:      1 | Accumulation Step:   2 | Loss:   0.02 |Tokens / Sec:   332.6 | Learning Rate: 7.1e-04\n"
          ]
        },
        {
          "metadata": {
            "tags": null
          },
          "name": "stderr",
          "output_type": "stream",
          "text": [
            "\r 41%|████      | 49/120 [27:57<43:25, 36.70s/it]"
          ]
        },
        {
          "metadata": {
            "tags": null
          },
          "name": "stdout",
          "output_type": "stream",
          "text": [
            "Epoch Step:      1 | Accumulation Step:   2 | Loss:   0.02 |Tokens / Sec:   421.8 | Learning Rate: 7.1e-04\n"
          ]
        },
        {
          "metadata": {
            "tags": null
          },
          "name": "stderr",
          "output_type": "stream",
          "text": [
            "\r 42%|████▏     | 50/120 [28:34<42:58, 36.83s/it]"
          ]
        },
        {
          "metadata": {
            "tags": null
          },
          "name": "stdout",
          "output_type": "stream",
          "text": [
            "Epoch Step:      1 | Accumulation Step:   2 | Loss:   0.02 |Tokens / Sec:   411.9 | Learning Rate: 7.0e-04\n"
          ]
        },
        {
          "metadata": {
            "tags": null
          },
          "name": "stderr",
          "output_type": "stream",
          "text": [
            "\r 42%|████▎     | 51/120 [29:13<43:03, 37.44s/it]"
          ]
        },
        {
          "metadata": {
            "tags": null
          },
          "name": "stdout",
          "output_type": "stream",
          "text": [
            "Epoch Step:      1 | Accumulation Step:   2 | Loss:   0.04 |Tokens / Sec:   411.1 | Learning Rate: 6.9e-04\n"
          ]
        },
        {
          "metadata": {
            "tags": null
          },
          "name": "stderr",
          "output_type": "stream",
          "text": [
            "\r 43%|████▎     | 52/120 [29:49<42:07, 37.17s/it]"
          ]
        },
        {
          "metadata": {
            "tags": null
          },
          "name": "stdout",
          "output_type": "stream",
          "text": [
            "Epoch Step:      1 | Accumulation Step:   2 | Loss:   0.02 |Tokens / Sec:   417.1 | Learning Rate: 6.8e-04\n"
          ]
        },
        {
          "metadata": {
            "tags": null
          },
          "name": "stderr",
          "output_type": "stream",
          "text": [
            "\r 44%|████▍     | 53/120 [30:28<42:03, 37.66s/it]"
          ]
        },
        {
          "metadata": {
            "tags": null
          },
          "name": "stdout",
          "output_type": "stream",
          "text": [
            "Epoch Step:      1 | Accumulation Step:   2 | Loss:   0.05 |Tokens / Sec:   399.2 | Learning Rate: 6.8e-04\n"
          ]
        },
        {
          "metadata": {
            "tags": null
          },
          "name": "stderr",
          "output_type": "stream",
          "text": [
            "\r 45%|████▌     | 54/120 [31:06<41:37, 37.84s/it]"
          ]
        },
        {
          "metadata": {
            "tags": null
          },
          "name": "stdout",
          "output_type": "stream",
          "text": [
            "Epoch Step:      1 | Accumulation Step:   2 | Loss:   0.06 |Tokens / Sec:   406.2 | Learning Rate: 6.7e-04\n"
          ]
        },
        {
          "metadata": {
            "tags": null
          },
          "name": "stderr",
          "output_type": "stream",
          "text": [
            "\r 46%|████▌     | 55/120 [31:46<41:45, 38.55s/it]"
          ]
        },
        {
          "metadata": {
            "tags": null
          },
          "name": "stdout",
          "output_type": "stream",
          "text": [
            "Epoch Step:      1 | Accumulation Step:   2 | Loss:   0.03 |Tokens / Sec:   394.9 | Learning Rate: 6.7e-04\n"
          ]
        },
        {
          "metadata": {
            "tags": null
          },
          "name": "stderr",
          "output_type": "stream",
          "text": [
            "\r 47%|████▋     | 56/120 [32:26<41:16, 38.69s/it]"
          ]
        },
        {
          "metadata": {
            "tags": null
          },
          "name": "stdout",
          "output_type": "stream",
          "text": [
            "Epoch Step:      1 | Accumulation Step:   2 | Loss:   0.02 |Tokens / Sec:   398.6 | Learning Rate: 6.6e-04\n"
          ]
        },
        {
          "metadata": {
            "tags": null
          },
          "name": "stderr",
          "output_type": "stream",
          "text": [
            "\r 48%|████▊     | 57/120 [33:06<41:11, 39.23s/it]"
          ]
        },
        {
          "metadata": {
            "tags": null
          },
          "name": "stdout",
          "output_type": "stream",
          "text": [
            "Epoch Step:      1 | Accumulation Step:   2 | Loss:   0.01 |Tokens / Sec:   388.9 | Learning Rate: 6.5e-04\n"
          ]
        },
        {
          "metadata": {
            "tags": null
          },
          "name": "stderr",
          "output_type": "stream",
          "text": [
            "\r 48%|████▊     | 58/120 [33:46<40:43, 39.41s/it]"
          ]
        },
        {
          "metadata": {
            "tags": null
          },
          "name": "stdout",
          "output_type": "stream",
          "text": [
            "Epoch Step:      1 | Accumulation Step:   2 | Loss:   0.02 |Tokens / Sec:   384.2 | Learning Rate: 6.5e-04\n"
          ]
        },
        {
          "metadata": {
            "tags": null
          },
          "name": "stderr",
          "output_type": "stream",
          "text": [
            "\r 49%|████▉     | 59/120 [34:27<40:42, 40.04s/it]"
          ]
        },
        {
          "metadata": {
            "tags": null
          },
          "name": "stdout",
          "output_type": "stream",
          "text": [
            "Epoch Step:      1 | Accumulation Step:   2 | Loss:   0.01 |Tokens / Sec:   384.7 | Learning Rate: 6.4e-04\n"
          ]
        },
        {
          "metadata": {
            "tags": null
          },
          "name": "stderr",
          "output_type": "stream",
          "text": [
            "\r 50%|█████     | 60/120 [35:08<40:16, 40.27s/it]"
          ]
        },
        {
          "metadata": {
            "tags": null
          },
          "name": "stdout",
          "output_type": "stream",
          "text": [
            "Epoch Step:      1 | Accumulation Step:   2 | Loss:   0.03 |Tokens / Sec:   375.3 | Learning Rate: 6.4e-04\n"
          ]
        },
        {
          "metadata": {
            "tags": null
          },
          "name": "stderr",
          "output_type": "stream",
          "text": [
            "\r 51%|█████     | 61/120 [35:50<40:10, 40.86s/it]"
          ]
        },
        {
          "metadata": {
            "tags": null
          },
          "name": "stdout",
          "output_type": "stream",
          "text": [
            "Epoch Step:      1 | Accumulation Step:   2 | Loss:   0.03 |Tokens / Sec:   383.1 | Learning Rate: 6.3e-04\n"
          ]
        },
        {
          "metadata": {
            "tags": null
          },
          "name": "stderr",
          "output_type": "stream",
          "text": [
            "\r 52%|█████▏    | 62/120 [36:31<39:20, 40.70s/it]"
          ]
        },
        {
          "metadata": {
            "tags": null
          },
          "name": "stdout",
          "output_type": "stream",
          "text": [
            "Epoch Step:      1 | Accumulation Step:   2 | Loss:   0.02 |Tokens / Sec:   366.8 | Learning Rate: 6.3e-04\n"
          ]
        },
        {
          "metadata": {
            "tags": null
          },
          "name": "stderr",
          "output_type": "stream",
          "text": [
            "\r 52%|█████▎    | 63/120 [37:13<39:05, 41.15s/it]"
          ]
        },
        {
          "metadata": {
            "tags": null
          },
          "name": "stdout",
          "output_type": "stream",
          "text": [
            "Epoch Step:      1 | Accumulation Step:   2 | Loss:   0.01 |Tokens / Sec:   384.7 | Learning Rate: 6.2e-04\n"
          ]
        },
        {
          "metadata": {
            "tags": null
          },
          "name": "stderr",
          "output_type": "stream",
          "text": [
            "\r 53%|█████▎    | 64/120 [37:53<38:01, 40.73s/it]"
          ]
        },
        {
          "metadata": {
            "tags": null
          },
          "name": "stdout",
          "output_type": "stream",
          "text": [
            "Epoch Step:      1 | Accumulation Step:   2 | Loss:   0.04 |Tokens / Sec:   304.0 | Learning Rate: 6.2e-04\n"
          ]
        },
        {
          "metadata": {
            "tags": null
          },
          "name": "stderr",
          "output_type": "stream",
          "text": [
            "\r 54%|█████▍    | 65/120 [38:36<37:57, 41.41s/it]"
          ]
        },
        {
          "metadata": {
            "tags": null
          },
          "name": "stdout",
          "output_type": "stream",
          "text": [
            "Epoch Step:      1 | Accumulation Step:   2 | Loss:   0.06 |Tokens / Sec:   368.3 | Learning Rate: 6.1e-04\n"
          ]
        },
        {
          "metadata": {
            "tags": null
          },
          "name": "stderr",
          "output_type": "stream",
          "text": [
            "\r 55%|█████▌    | 66/120 [39:20<38:02, 42.27s/it]"
          ]
        },
        {
          "metadata": {
            "tags": null
          },
          "name": "stdout",
          "output_type": "stream",
          "text": [
            "Epoch Step:      1 | Accumulation Step:   2 | Loss:   0.03 |Tokens / Sec:   349.2 | Learning Rate: 6.1e-04\n"
          ]
        },
        {
          "metadata": {
            "tags": null
          },
          "name": "stderr",
          "output_type": "stream",
          "text": [
            "\r 56%|█████▌    | 67/120 [40:03<37:35, 42.55s/it]"
          ]
        },
        {
          "metadata": {
            "tags": null
          },
          "name": "stdout",
          "output_type": "stream",
          "text": [
            "Epoch Step:      1 | Accumulation Step:   2 | Loss:   0.03 |Tokens / Sec:   349.4 | Learning Rate: 6.0e-04\n"
          ]
        },
        {
          "metadata": {
            "tags": null
          },
          "name": "stderr",
          "output_type": "stream",
          "text": [
            "\r 57%|█████▋    | 68/120 [40:48<37:26, 43.20s/it]"
          ]
        },
        {
          "metadata": {
            "tags": null
          },
          "name": "stdout",
          "output_type": "stream",
          "text": [
            "Epoch Step:      1 | Accumulation Step:   2 | Loss:   0.01 |Tokens / Sec:   351.7 | Learning Rate: 6.0e-04\n"
          ]
        },
        {
          "metadata": {
            "tags": null
          },
          "name": "stderr",
          "output_type": "stream",
          "text": [
            "\r 57%|█████▊    | 69/120 [41:31<36:49, 43.33s/it]"
          ]
        },
        {
          "metadata": {
            "tags": null
          },
          "name": "stdout",
          "output_type": "stream",
          "text": [
            "Epoch Step:      1 | Accumulation Step:   2 | Loss:   0.02 |Tokens / Sec:   350.0 | Learning Rate: 5.9e-04\n"
          ]
        },
        {
          "metadata": {
            "tags": null
          },
          "name": "stderr",
          "output_type": "stream",
          "text": [
            "\r 58%|█████▊    | 70/120 [42:18<36:55, 44.31s/it]"
          ]
        },
        {
          "metadata": {
            "tags": null
          },
          "name": "stdout",
          "output_type": "stream",
          "text": [
            "Epoch Step:      1 | Accumulation Step:   2 | Loss:   0.02 |Tokens / Sec:   329.3 | Learning Rate: 5.9e-04\n"
          ]
        },
        {
          "metadata": {
            "tags": null
          },
          "name": "stderr",
          "output_type": "stream",
          "text": [
            "\r 59%|█████▉    | 71/120 [43:04<36:31, 44.73s/it]"
          ]
        },
        {
          "metadata": {
            "tags": null
          },
          "name": "stdout",
          "output_type": "stream",
          "text": [
            "Epoch Step:      1 | Accumulation Step:   2 | Loss:   0.09 |Tokens / Sec:   333.4 | Learning Rate: 5.9e-04\n"
          ]
        },
        {
          "metadata": {
            "tags": null
          },
          "name": "stderr",
          "output_type": "stream",
          "text": [
            "\r 60%|██████    | 72/120 [43:51<36:27, 45.58s/it]"
          ]
        },
        {
          "metadata": {
            "tags": null
          },
          "name": "stdout",
          "output_type": "stream",
          "text": [
            "Epoch Step:      1 | Accumulation Step:   2 | Loss:   0.03 |Tokens / Sec:   333.7 | Learning Rate: 5.8e-04\n"
          ]
        },
        {
          "metadata": {
            "tags": null
          },
          "name": "stderr",
          "output_type": "stream",
          "text": [
            "\r 61%|██████    | 73/120 [44:40<36:29, 46.58s/it]"
          ]
        },
        {
          "metadata": {
            "tags": null
          },
          "name": "stdout",
          "output_type": "stream",
          "text": [
            "Epoch Step:      1 | Accumulation Step:   2 | Loss:   0.03 |Tokens / Sec:   304.9 | Learning Rate: 5.8e-04\n"
          ]
        },
        {
          "metadata": {
            "tags": null
          },
          "name": "stderr",
          "output_type": "stream",
          "text": [
            "\r 62%|██████▏   | 74/120 [45:29<36:14, 47.27s/it]"
          ]
        },
        {
          "metadata": {
            "tags": null
          },
          "name": "stdout",
          "output_type": "stream",
          "text": [
            "Epoch Step:      1 | Accumulation Step:   2 | Loss:   0.02 |Tokens / Sec:   311.9 | Learning Rate: 5.7e-04\n"
          ]
        },
        {
          "metadata": {
            "tags": null
          },
          "name": "stderr",
          "output_type": "stream",
          "text": [
            "\r 62%|██████▎   | 75/120 [46:17<35:39, 47.55s/it]"
          ]
        },
        {
          "metadata": {
            "tags": null
          },
          "name": "stdout",
          "output_type": "stream",
          "text": [
            "Epoch Step:      1 | Accumulation Step:   2 | Loss:   0.05 |Tokens / Sec:   315.6 | Learning Rate: 5.7e-04\n"
          ]
        },
        {
          "metadata": {
            "tags": null
          },
          "name": "stderr",
          "output_type": "stream",
          "text": [
            "\r 63%|██████▎   | 76/120 [47:06<35:02, 47.78s/it]"
          ]
        },
        {
          "metadata": {
            "tags": null
          },
          "name": "stdout",
          "output_type": "stream",
          "text": [
            "Epoch Step:      1 | Accumulation Step:   2 | Loss:   0.03 |Tokens / Sec:   317.8 | Learning Rate: 5.7e-04\n"
          ]
        },
        {
          "metadata": {
            "tags": null
          },
          "name": "stderr",
          "output_type": "stream",
          "text": [
            "\r 64%|██████▍   | 77/120 [47:57<35:00, 48.84s/it]"
          ]
        },
        {
          "metadata": {
            "tags": null
          },
          "name": "stdout",
          "output_type": "stream",
          "text": [
            "Epoch Step:      1 | Accumulation Step:   2 | Loss:   0.01 |Tokens / Sec:   291.3 | Learning Rate: 5.6e-04\n"
          ]
        },
        {
          "metadata": {
            "tags": null
          },
          "name": "stderr",
          "output_type": "stream",
          "text": [
            "\r 65%|██████▌   | 78/120 [48:51<35:16, 50.39s/it]"
          ]
        },
        {
          "metadata": {
            "tags": null
          },
          "name": "stdout",
          "output_type": "stream",
          "text": [
            "Epoch Step:      1 | Accumulation Step:   2 | Loss:   0.00 |Tokens / Sec:   283.9 | Learning Rate: 5.6e-04\n"
          ]
        },
        {
          "metadata": {
            "tags": null
          },
          "name": "stderr",
          "output_type": "stream",
          "text": [
            "\r 66%|██████▌   | 79/120 [49:44<34:58, 51.19s/it]"
          ]
        },
        {
          "metadata": {
            "tags": null
          },
          "name": "stdout",
          "output_type": "stream",
          "text": [
            "Epoch Step:      1 | Accumulation Step:   2 | Loss:   0.04 |Tokens / Sec:   286.9 | Learning Rate: 5.6e-04\n"
          ]
        },
        {
          "metadata": {
            "tags": null
          },
          "name": "stderr",
          "output_type": "stream",
          "text": [
            "\r 67%|██████▋   | 80/120 [50:39<34:48, 52.22s/it]"
          ]
        },
        {
          "metadata": {
            "tags": null
          },
          "name": "stdout",
          "output_type": "stream",
          "text": [
            "Epoch Step:      1 | Accumulation Step:   2 | Loss:   0.03 |Tokens / Sec:   280.7 | Learning Rate: 5.5e-04\n"
          ]
        },
        {
          "metadata": {
            "tags": null
          },
          "name": "stderr",
          "output_type": "stream",
          "text": [
            "\r 68%|██████▊   | 81/120 [51:33<34:25, 52.96s/it]"
          ]
        },
        {
          "metadata": {
            "tags": null
          },
          "name": "stdout",
          "output_type": "stream",
          "text": [
            "Epoch Step:      1 | Accumulation Step:   2 | Loss:   0.02 |Tokens / Sec:   289.9 | Learning Rate: 5.5e-04\n"
          ]
        },
        {
          "metadata": {
            "tags": null
          },
          "name": "stderr",
          "output_type": "stream",
          "text": [
            "\r 68%|██████▊   | 82/120 [52:26<33:25, 52.77s/it]"
          ]
        },
        {
          "metadata": {
            "tags": null
          },
          "name": "stdout",
          "output_type": "stream",
          "text": [
            "Epoch Step:      1 | Accumulation Step:   2 | Loss:   0.02 |Tokens / Sec:   277.9 | Learning Rate: 5.5e-04\n"
          ]
        },
        {
          "metadata": {
            "tags": null
          },
          "name": "stderr",
          "output_type": "stream",
          "text": [
            "\r 69%|██████▉   | 83/120 [53:21<33:04, 53.63s/it]"
          ]
        },
        {
          "metadata": {
            "tags": null
          },
          "name": "stdout",
          "output_type": "stream",
          "text": [
            "Epoch Step:      1 | Accumulation Step:   2 | Loss:   0.01 |Tokens / Sec:   280.9 | Learning Rate: 5.4e-04\n"
          ]
        },
        {
          "metadata": {
            "tags": null
          },
          "name": "stderr",
          "output_type": "stream",
          "text": [
            "\r 70%|███████   | 84/120 [54:17<32:32, 54.23s/it]"
          ]
        },
        {
          "metadata": {
            "tags": null
          },
          "name": "stdout",
          "output_type": "stream",
          "text": [
            "Epoch Step:      1 | Accumulation Step:   2 | Loss:   0.02 |Tokens / Sec:   265.5 | Learning Rate: 5.4e-04\n"
          ]
        },
        {
          "metadata": {
            "tags": null
          },
          "name": "stderr",
          "output_type": "stream",
          "text": [
            "\r 71%|███████   | 85/120 [55:14<32:03, 54.96s/it]"
          ]
        },
        {
          "metadata": {
            "tags": null
          },
          "name": "stdout",
          "output_type": "stream",
          "text": [
            "Epoch Step:      1 | Accumulation Step:   2 | Loss:   0.03 |Tokens / Sec:   212.2 | Learning Rate: 5.4e-04\n"
          ]
        },
        {
          "metadata": {
            "tags": null
          },
          "name": "stderr",
          "output_type": "stream",
          "text": [
            "\r 72%|███████▏  | 86/120 [56:11<31:33, 55.70s/it]"
          ]
        },
        {
          "metadata": {
            "tags": null
          },
          "name": "stdout",
          "output_type": "stream",
          "text": [
            "Epoch Step:      1 | Accumulation Step:   2 | Loss:   0.03 |Tokens / Sec:   272.3 | Learning Rate: 5.3e-04\n"
          ]
        },
        {
          "metadata": {
            "tags": null
          },
          "name": "stderr",
          "output_type": "stream",
          "text": [
            "\r 72%|███████▎  | 87/120 [57:08<30:47, 55.99s/it]"
          ]
        },
        {
          "metadata": {
            "tags": null
          },
          "name": "stdout",
          "output_type": "stream",
          "text": [
            "Epoch Step:      1 | Accumulation Step:   2 | Loss:   0.01 |Tokens / Sec:   278.6 | Learning Rate: 5.3e-04\n"
          ]
        },
        {
          "metadata": {
            "tags": null
          },
          "name": "stderr",
          "output_type": "stream",
          "text": [
            "\r 73%|███████▎  | 88/120 [58:04<29:53, 56.05s/it]"
          ]
        },
        {
          "metadata": {
            "tags": null
          },
          "name": "stdout",
          "output_type": "stream",
          "text": [
            "Epoch Step:      1 | Accumulation Step:   2 | Loss:   0.02 |Tokens / Sec:   267.0 | Learning Rate: 5.3e-04\n"
          ]
        },
        {
          "metadata": {
            "tags": null
          },
          "name": "stderr",
          "output_type": "stream",
          "text": [
            "\r 74%|███████▍  | 89/120 [59:00<28:56, 56.01s/it]"
          ]
        },
        {
          "metadata": {
            "tags": null
          },
          "name": "stdout",
          "output_type": "stream",
          "text": [
            "Epoch Step:      1 | Accumulation Step:   2 | Loss:   0.02 |Tokens / Sec:   270.9 | Learning Rate: 5.2e-04\n"
          ]
        },
        {
          "metadata": {
            "tags": null
          },
          "name": "stderr",
          "output_type": "stream",
          "text": [
            "\r 75%|███████▌  | 90/120 [59:55<27:56, 55.87s/it]"
          ]
        },
        {
          "metadata": {
            "tags": null
          },
          "name": "stdout",
          "output_type": "stream",
          "text": [
            "Epoch Step:      1 | Accumulation Step:   2 | Loss:   0.03 |Tokens / Sec:   281.4 | Learning Rate: 5.2e-04\n"
          ]
        },
        {
          "metadata": {
            "tags": null
          },
          "name": "stderr",
          "output_type": "stream",
          "text": [
            "\r 76%|███████▌  | 91/120 [1:00:51<27:02, 55.95s/it]"
          ]
        },
        {
          "metadata": {
            "tags": null
          },
          "name": "stdout",
          "output_type": "stream",
          "text": [
            "Epoch Step:      1 | Accumulation Step:   2 | Loss:   0.01 |Tokens / Sec:   271.0 | Learning Rate: 5.2e-04\n"
          ]
        },
        {
          "metadata": {
            "tags": null
          },
          "name": "stderr",
          "output_type": "stream",
          "text": [
            "\r 77%|███████▋  | 92/120 [1:01:48<26:08, 56.03s/it]"
          ]
        },
        {
          "metadata": {
            "tags": null
          },
          "name": "stdout",
          "output_type": "stream",
          "text": [
            "Epoch Step:      1 | Accumulation Step:   2 | Loss:   0.01 |Tokens / Sec:   274.3 | Learning Rate: 5.1e-04\n"
          ]
        },
        {
          "metadata": {
            "tags": null
          },
          "name": "stderr",
          "output_type": "stream",
          "text": [
            "\r 78%|███████▊  | 93/120 [1:02:42<24:59, 55.52s/it]"
          ]
        },
        {
          "metadata": {
            "tags": null
          },
          "name": "stdout",
          "output_type": "stream",
          "text": [
            "Epoch Step:      1 | Accumulation Step:   2 | Loss:   0.03 |Tokens / Sec:   277.9 | Learning Rate: 5.1e-04\n"
          ]
        },
        {
          "metadata": {
            "tags": null
          },
          "name": "stderr",
          "output_type": "stream",
          "text": [
            "\r 78%|███████▊  | 94/120 [1:03:39<24:11, 55.84s/it]"
          ]
        },
        {
          "metadata": {
            "tags": null
          },
          "name": "stdout",
          "output_type": "stream",
          "text": [
            "Epoch Step:      1 | Accumulation Step:   2 | Loss:   0.02 |Tokens / Sec:   271.7 | Learning Rate: 5.1e-04\n"
          ]
        },
        {
          "metadata": {
            "tags": null
          },
          "name": "stderr",
          "output_type": "stream",
          "text": [
            "\r 79%|███████▉  | 95/120 [1:04:37<23:33, 56.55s/it]"
          ]
        },
        {
          "metadata": {
            "tags": null
          },
          "name": "stdout",
          "output_type": "stream",
          "text": [
            "Epoch Step:      1 | Accumulation Step:   2 | Loss:   0.01 |Tokens / Sec:   259.3 | Learning Rate: 5.1e-04\n"
          ]
        },
        {
          "metadata": {
            "tags": null
          },
          "name": "stderr",
          "output_type": "stream",
          "text": [
            "\r 80%|████████  | 96/120 [1:05:36<22:52, 57.19s/it]"
          ]
        },
        {
          "metadata": {
            "tags": null
          },
          "name": "stdout",
          "output_type": "stream",
          "text": [
            "Epoch Step:      1 | Accumulation Step:   2 | Loss:   0.01 |Tokens / Sec:   236.2 | Learning Rate: 5.0e-04\n"
          ]
        },
        {
          "metadata": {
            "tags": null
          },
          "name": "stderr",
          "output_type": "stream",
          "text": [
            "\r 81%|████████  | 97/120 [1:06:33<21:57, 57.29s/it]"
          ]
        },
        {
          "metadata": {
            "tags": null
          },
          "name": "stdout",
          "output_type": "stream",
          "text": [
            "Epoch Step:      1 | Accumulation Step:   2 | Loss:   0.01 |Tokens / Sec:   260.1 | Learning Rate: 5.0e-04\n"
          ]
        },
        {
          "metadata": {
            "tags": null
          },
          "name": "stderr",
          "output_type": "stream",
          "text": [
            "\r 82%|████████▏ | 98/120 [1:07:31<21:02, 57.38s/it]"
          ]
        },
        {
          "metadata": {
            "tags": null
          },
          "name": "stdout",
          "output_type": "stream",
          "text": [
            "Epoch Step:      1 | Accumulation Step:   2 | Loss:   0.03 |Tokens / Sec:   268.5 | Learning Rate: 5.0e-04\n"
          ]
        },
        {
          "metadata": {
            "tags": null
          },
          "name": "stderr",
          "output_type": "stream",
          "text": [
            "\r 82%|████████▎ | 99/120 [1:08:29<20:09, 57.60s/it]"
          ]
        },
        {
          "metadata": {
            "tags": null
          },
          "name": "stdout",
          "output_type": "stream",
          "text": [
            "Epoch Step:      1 | Accumulation Step:   2 | Loss:   0.03 |Tokens / Sec:   270.8 | Learning Rate: 5.0e-04\n"
          ]
        },
        {
          "metadata": {
            "tags": null
          },
          "name": "stderr",
          "output_type": "stream",
          "text": [
            "\r 83%|████████▎ | 100/120 [1:09:27<19:18, 57.93s/it]"
          ]
        },
        {
          "metadata": {
            "tags": null
          },
          "name": "stdout",
          "output_type": "stream",
          "text": [
            "Epoch Step:      1 | Accumulation Step:   2 | Loss:   0.00 |Tokens / Sec:   233.8 | Learning Rate: 4.9e-04\n"
          ]
        },
        {
          "metadata": {
            "tags": null
          },
          "name": "stderr",
          "output_type": "stream",
          "text": [
            "\r 84%|████████▍ | 101/120 [1:10:27<18:28, 58.35s/it]"
          ]
        },
        {
          "metadata": {
            "tags": null
          },
          "name": "stdout",
          "output_type": "stream",
          "text": [
            "Epoch Step:      1 | Accumulation Step:   2 | Loss:   0.00 |Tokens / Sec:   253.4 | Learning Rate: 4.9e-04\n"
          ]
        },
        {
          "metadata": {
            "tags": null
          },
          "name": "stderr",
          "output_type": "stream",
          "text": [
            "\r 85%|████████▌ | 102/120 [1:11:24<17:22, 57.92s/it]"
          ]
        },
        {
          "metadata": {
            "tags": null
          },
          "name": "stdout",
          "output_type": "stream",
          "text": [
            "Epoch Step:      1 | Accumulation Step:   2 | Loss:   0.02 |Tokens / Sec:   270.0 | Learning Rate: 4.9e-04\n"
          ]
        },
        {
          "metadata": {
            "tags": null
          },
          "name": "stderr",
          "output_type": "stream",
          "text": [
            "\r 86%|████████▌ | 103/120 [1:12:21<16:20, 57.67s/it]"
          ]
        },
        {
          "metadata": {
            "tags": null
          },
          "name": "stdout",
          "output_type": "stream",
          "text": [
            "Epoch Step:      1 | Accumulation Step:   2 | Loss:   0.01 |Tokens / Sec:   268.8 | Learning Rate: 4.9e-04\n"
          ]
        },
        {
          "metadata": {
            "tags": null
          },
          "name": "stderr",
          "output_type": "stream",
          "text": [
            "\r 87%|████████▋ | 104/120 [1:13:20<15:29, 58.11s/it]"
          ]
        },
        {
          "metadata": {
            "tags": null
          },
          "name": "stdout",
          "output_type": "stream",
          "text": [
            "Epoch Step:      1 | Accumulation Step:   2 | Loss:   0.03 |Tokens / Sec:   257.1 | Learning Rate: 4.8e-04\n"
          ]
        },
        {
          "metadata": {
            "tags": null
          },
          "name": "stderr",
          "output_type": "stream",
          "text": [
            "\r 88%|████████▊ | 105/120 [1:14:19<14:35, 58.38s/it]"
          ]
        },
        {
          "metadata": {
            "tags": null
          },
          "name": "stdout",
          "output_type": "stream",
          "text": [
            "Epoch Step:      1 | Accumulation Step:   2 | Loss:   0.02 |Tokens / Sec:   252.5 | Learning Rate: 4.8e-04\n"
          ]
        },
        {
          "metadata": {
            "tags": null
          },
          "name": "stderr",
          "output_type": "stream",
          "text": [
            "\r 88%|████████▊ | 106/120 [1:15:19<13:45, 58.94s/it]"
          ]
        },
        {
          "metadata": {
            "tags": null
          },
          "name": "stdout",
          "output_type": "stream",
          "text": [
            "Epoch Step:      1 | Accumulation Step:   2 | Loss:   0.02 |Tokens / Sec:   252.7 | Learning Rate: 4.8e-04\n"
          ]
        },
        {
          "metadata": {
            "tags": null
          },
          "name": "stderr",
          "output_type": "stream",
          "text": [
            "\r 89%|████████▉ | 107/120 [1:16:19<12:51, 59.35s/it]"
          ]
        },
        {
          "metadata": {
            "tags": null
          },
          "name": "stdout",
          "output_type": "stream",
          "text": [
            "Epoch Step:      1 | Accumulation Step:   2 | Loss:   0.01 |Tokens / Sec:   260.4 | Learning Rate: 4.8e-04\n"
          ]
        },
        {
          "output_type": "stream",
          "name": "stderr",
          "text": [
            "\r 90%|█████████ | 108/120 [1:17:19<11:52, 59.41s/it]"
          ]
        },
        {
          "output_type": "stream",
          "name": "stdout",
          "text": [
            "Epoch Step:      1 | Accumulation Step:   2 | Loss:   0.00 |Tokens / Sec:   250.9 | Learning Rate: 4.8e-04\n"
          ]
        },
        {
          "output_type": "stream",
          "name": "stderr",
          "text": [
            "\r 91%|█████████ | 109/120 [1:18:18<10:51, 59.26s/it]"
          ]
        },
        {
          "output_type": "stream",
          "name": "stdout",
          "text": [
            "Epoch Step:      1 | Accumulation Step:   2 | Loss:   0.00 |Tokens / Sec:   250.7 | Learning Rate: 4.7e-04\n"
          ]
        },
        {
          "output_type": "stream",
          "name": "stderr",
          "text": [
            "\r 92%|█████████▏| 110/120 [1:19:17<09:52, 59.30s/it]"
          ]
        },
        {
          "output_type": "stream",
          "name": "stdout",
          "text": [
            "Epoch Step:      1 | Accumulation Step:   2 | Loss:   0.02 |Tokens / Sec:   250.8 | Learning Rate: 4.7e-04\n"
          ]
        },
        {
          "output_type": "stream",
          "name": "stderr",
          "text": [
            "\r 92%|█████████▎| 111/120 [1:20:16<08:53, 59.25s/it]"
          ]
        },
        {
          "output_type": "stream",
          "name": "stdout",
          "text": [
            "Epoch Step:      1 | Accumulation Step:   2 | Loss:   0.02 |Tokens / Sec:   246.7 | Learning Rate: 4.7e-04\n"
          ]
        },
        {
          "output_type": "stream",
          "name": "stderr",
          "text": [
            "\r 93%|█████████▎| 112/120 [1:21:17<07:56, 59.61s/it]"
          ]
        },
        {
          "output_type": "stream",
          "name": "stdout",
          "text": [
            "Epoch Step:      1 | Accumulation Step:   2 | Loss:   0.00 |Tokens / Sec:   251.1 | Learning Rate: 4.7e-04\n"
          ]
        },
        {
          "output_type": "stream",
          "name": "stderr",
          "text": [
            "\r 94%|█████████▍| 113/120 [1:22:14<06:52, 59.00s/it]"
          ]
        },
        {
          "output_type": "stream",
          "name": "stdout",
          "text": [
            "Epoch Step:      1 | Accumulation Step:   2 | Loss:   0.00 |Tokens / Sec:   259.7 | Learning Rate: 4.6e-04\n"
          ]
        },
        {
          "output_type": "stream",
          "name": "stderr",
          "text": [
            "\r 95%|█████████▌| 114/120 [1:23:12<05:50, 58.45s/it]"
          ]
        },
        {
          "output_type": "stream",
          "name": "stdout",
          "text": [
            "Epoch Step:      1 | Accumulation Step:   2 | Loss:   0.01 |Tokens / Sec:   270.0 | Learning Rate: 4.6e-04\n"
          ]
        },
        {
          "output_type": "stream",
          "name": "stderr",
          "text": [
            "\r 96%|█████████▌| 115/120 [1:24:09<04:50, 58.05s/it]"
          ]
        },
        {
          "output_type": "stream",
          "name": "stdout",
          "text": [
            "Epoch Step:      1 | Accumulation Step:   2 | Loss:   0.02 |Tokens / Sec:   256.8 | Learning Rate: 4.6e-04\n"
          ]
        },
        {
          "output_type": "stream",
          "name": "stderr",
          "text": [
            "\r 97%|█████████▋| 116/120 [1:25:07<03:52, 58.21s/it]"
          ]
        },
        {
          "output_type": "stream",
          "name": "stdout",
          "text": [
            "Epoch Step:      1 | Accumulation Step:   2 | Loss:   0.01 |Tokens / Sec:   250.2 | Learning Rate: 4.6e-04\n"
          ]
        },
        {
          "output_type": "stream",
          "name": "stderr",
          "text": [
            "\r 98%|█████████▊| 117/120 [1:26:06<02:55, 58.47s/it]"
          ]
        },
        {
          "output_type": "stream",
          "name": "stdout",
          "text": [
            "Epoch Step:      1 | Accumulation Step:   2 | Loss:   0.01 |Tokens / Sec:   256.6 | Learning Rate: 4.6e-04\n"
          ]
        },
        {
          "output_type": "stream",
          "name": "stderr",
          "text": [
            "\r 98%|█████████▊| 118/120 [1:27:05<01:57, 58.61s/it]"
          ]
        },
        {
          "output_type": "stream",
          "name": "stdout",
          "text": [
            "Epoch Step:      1 | Accumulation Step:   2 | Loss:   0.00 |Tokens / Sec:   256.9 | Learning Rate: 4.5e-04\n"
          ]
        },
        {
          "output_type": "stream",
          "name": "stderr",
          "text": [
            "\r 99%|█████████▉| 119/120 [1:28:04<00:58, 58.58s/it]"
          ]
        },
        {
          "output_type": "stream",
          "name": "stdout",
          "text": [
            "Epoch Step:      1 | Accumulation Step:   2 | Loss:   0.00 |Tokens / Sec:   257.2 | Learning Rate: 4.5e-04\n"
          ]
        },
        {
          "output_type": "stream",
          "name": "stderr",
          "text": [
            "100%|██████████| 120/120 [1:29:02<00:00, 44.52s/it]"
          ]
        },
        {
          "output_type": "stream",
          "name": "stdout",
          "text": [
            "tensor([[0, 1, 2, 3, 4, 5, 6, 7, 8, 9]])\n"
          ]
        },
        {
          "output_type": "stream",
          "name": "stderr",
          "text": [
            "\n"
          ]
        }
      ]
    }
  ]
}